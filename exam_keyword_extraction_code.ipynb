{
  "nbformat": 4,
  "nbformat_minor": 0,
  "metadata": {
    "colab": {
      "provenance": [],
      "authorship_tag": "ABX9TyP0YOIoVZzsHuEdSvXnBjD9",
      "include_colab_link": true
    },
    "kernelspec": {
      "name": "python3",
      "display_name": "Python 3"
    },
    "language_info": {
      "name": "python"
    }
  },
  "cells": [
    {
      "cell_type": "markdown",
      "metadata": {
        "id": "view-in-github",
        "colab_type": "text"
      },
      "source": [
        "<a href=\"https://colab.research.google.com/github/arjunsumina/analytics_code/blob/main/exam_keyword_extraction_code.ipynb\" target=\"_parent\"><img src=\"https://colab.research.google.com/assets/colab-badge.svg\" alt=\"Open In Colab\"/></a>"
      ]
    },
    {
      "cell_type": "code",
      "execution_count": null,
      "metadata": {
        "id": "XGNvj6PkULyp"
      },
      "outputs": [],
      "source": [
        "from nltk import tokenize\n",
        "from operator import itemgetter\n",
        "import math"
      ]
    },
    {
      "cell_type": "code",
      "source": [
        "doc = 'I am a graduate. I want to learn Python. I like learning Python. Python is easy. Python is interesting. Graduates learn coding easily. R is easy for studentso'"
      ],
      "metadata": {
        "id": "FnqM5HehUqIP"
      },
      "execution_count": null,
      "outputs": []
    },
    {
      "cell_type": "markdown",
      "source": [
        "remove the stop words"
      ],
      "metadata": {
        "id": "Kzi3IwoiUv_6"
      }
    },
    {
      "cell_type": "code",
      "source": [
        "import nltk\n",
        "nltk.download('stopwords')"
      ],
      "metadata": {
        "colab": {
          "base_uri": "https://localhost:8080/"
        },
        "id": "sZKD4vu5U_MH",
        "outputId": "818787f1-ffc6-457a-aa37-c30f061617ed"
      },
      "execution_count": null,
      "outputs": [
        {
          "output_type": "stream",
          "name": "stderr",
          "text": [
            "[nltk_data] Downloading package stopwords to /root/nltk_data...\n",
            "[nltk_data]   Unzipping corpora/stopwords.zip.\n"
          ]
        },
        {
          "output_type": "execute_result",
          "data": {
            "text/plain": [
              "True"
            ]
          },
          "metadata": {},
          "execution_count": 3
        }
      ]
    },
    {
      "cell_type": "code",
      "source": [
        "import nltk\n",
        "from nltk.corpus import stopwords\n",
        "from nltk.tokenize import word_tokenize \n",
        "stop_words = set(stopwords.words('english'))"
      ],
      "metadata": {
        "id": "FW0EVfORUvmz"
      },
      "execution_count": null,
      "outputs": []
    },
    {
      "cell_type": "markdown",
      "source": [
        "find the number of words in the document"
      ],
      "metadata": {
        "id": "afgU9jBkVUSc"
      }
    },
    {
      "cell_type": "code",
      "source": [
        "total_words = doc.split()\n",
        "total_word_length = len(total_words)\n",
        "print(total_word_length)"
      ],
      "metadata": {
        "colab": {
          "base_uri": "https://localhost:8080/"
        },
        "id": "xxiJtNa_U8Bx",
        "outputId": "7152b460-a78e-43ae-879a-ce9956203b6b"
      },
      "execution_count": null,
      "outputs": [
        {
          "output_type": "stream",
          "name": "stdout",
          "text": [
            "28\n"
          ]
        }
      ]
    },
    {
      "cell_type": "code",
      "source": [
        "import nltk\n",
        "nltk.download('punkt')"
      ],
      "metadata": {
        "colab": {
          "base_uri": "https://localhost:8080/"
        },
        "id": "lBUTY2rEVcd5",
        "outputId": "d6ead09a-3bb6-4b2f-bffc-3cebb3c2874c"
      },
      "execution_count": null,
      "outputs": [
        {
          "output_type": "stream",
          "name": "stderr",
          "text": [
            "[nltk_data] Downloading package punkt to /root/nltk_data...\n",
            "[nltk_data]   Unzipping tokenizers/punkt.zip.\n"
          ]
        },
        {
          "output_type": "execute_result",
          "data": {
            "text/plain": [
              "True"
            ]
          },
          "metadata": {},
          "execution_count": 6
        }
      ]
    },
    {
      "cell_type": "markdown",
      "source": [
        "count the total number of sentencs"
      ],
      "metadata": {
        "id": "ebkx8Sf-Vn38"
      }
    },
    {
      "cell_type": "code",
      "source": [
        "total_sentences = tokenize.sent_tokenize(doc)\n",
        "total_sent_len = len(total_sentences)\n",
        "print(total_sent_len)"
      ],
      "metadata": {
        "colab": {
          "base_uri": "https://localhost:8080/"
        },
        "id": "oMih17rEVTxZ",
        "outputId": "e712ee48-b4de-4ea7-b6fe-1281eef03c47"
      },
      "execution_count": null,
      "outputs": [
        {
          "output_type": "stream",
          "name": "stdout",
          "text": [
            "5\n"
          ]
        }
      ]
    },
    {
      "cell_type": "markdown",
      "source": [
        "compute the term frequency for each word"
      ],
      "metadata": {
        "id": "ql_f316fWfbv"
      }
    },
    {
      "cell_type": "code",
      "source": [
        "tf_score = {}\n",
        "for each_word in total_words:\n",
        "    each_word = each_word.replace('.','')\n",
        "    if each_word not in stop_words:\n",
        "        if each_word in tf_score:\n",
        "            tf_score[each_word] += 1\n",
        "        else:\n",
        "            tf_score[each_word] = 1\n",
        "# Dividing by total_word_length for each dictionary element\n",
        "tf_score.update((x, y/int(total_word_length)) for x, y in tf_score.items())\n",
        "print(tf_score)            "
      ],
      "metadata": {
        "colab": {
          "base_uri": "https://localhost:8080/"
        },
        "id": "kPevE9q2Wd7u",
        "outputId": "3e131348-3359-4bf3-ab45-3083edf3cc3f"
      },
      "execution_count": null,
      "outputs": [
        {
          "output_type": "stream",
          "name": "stdout",
          "text": [
            "{'I': 0.15789473684210525, 'graduate': 0.05263157894736842, 'want': 0.05263157894736842, 'learn': 0.05263157894736842, 'Python': 0.21052631578947367, 'like': 0.05263157894736842, 'learning': 0.05263157894736842, 'easy': 0.05263157894736842, 'interesting': 0.05263157894736842}\n"
          ]
        }
      ]
    },
    {
      "cell_type": "markdown",
      "source": [
        "function to check the word is present in a sentence list"
      ],
      "metadata": {
        "id": "587MXHlFXscj"
      }
    },
    {
      "cell_type": "code",
      "source": [
        "def check_sent(word, sentences): \n",
        "    final = [all([w in x for w in word]) for x in sentences] \n",
        "    sent_len = [sentences[i] for i in range(0, len(final)) if final[i]]\n",
        "    return int(len(sent_len))"
      ],
      "metadata": {
        "id": "sG9_r9rtXrys"
      },
      "execution_count": null,
      "outputs": []
    },
    {
      "cell_type": "markdown",
      "source": [
        "computing idf for each word"
      ],
      "metadata": {
        "id": "dAnsccaFYECK"
      }
    },
    {
      "cell_type": "code",
      "source": [
        "idf_score = {}\n",
        "for each_word in total_words:\n",
        "    each_word = each_word.replace('.','')\n",
        "    if each_word not in stop_words:\n",
        "        if each_word in idf_score:\n",
        "            idf_score[each_word] = check_sent(each_word, total_sentences)\n",
        "        else:\n",
        "            idf_score[each_word] = 1\n",
        "# Performing a log and divide\n",
        "idf_score.update((x, math.log(int(total_sent_len)/y)) for x, y in idf_score.items())\n",
        "\n",
        "print(idf_score)            "
      ],
      "metadata": {
        "colab": {
          "base_uri": "https://localhost:8080/"
        },
        "id": "V8N7ZH-BYDWw",
        "outputId": "09760ea4-20f4-438b-8636-80c2ff7170b7"
      },
      "execution_count": null,
      "outputs": [
        {
          "output_type": "stream",
          "name": "stdout",
          "text": [
            "{'I': 0.5108256237659907, 'graduate': 1.6094379124341003, 'want': 1.6094379124341003, 'learn': 1.6094379124341003, 'Python': 0.22314355131420976, 'like': 1.6094379124341003, 'learning': 1.6094379124341003, 'easy': 1.6094379124341003, 'interesting': 1.6094379124341003}\n"
          ]
        }
      ]
    },
    {
      "cell_type": "code",
      "source": [
        "tf_idf_score = {key: tf_score[key] * idf_score.get(key, 0) for key in tf_score.keys()}\n",
        "print(tf_idf_score)"
      ],
      "metadata": {
        "colab": {
          "base_uri": "https://localhost:8080/"
        },
        "id": "2phTORwnYolr",
        "outputId": "797ec6df-7aa1-4147-c511-298c3cf17dfd"
      },
      "execution_count": null,
      "outputs": [
        {
          "output_type": "stream",
          "name": "stdout",
          "text": [
            "{'I': 0.08065667743673537, 'graduate': 0.08470725854916317, 'want': 0.08470725854916317, 'learn': 0.08470725854916317, 'Python': 0.04697758975035995, 'like': 0.08470725854916317, 'learning': 0.08470725854916317, 'easy': 0.08470725854916317, 'interesting': 0.08470725854916317}\n"
          ]
        }
      ]
    },
    {
      "cell_type": "code",
      "source": [
        "def get_top_n(dict_elem, n):\n",
        "    result = dict(sorted(dict_elem.items(), key = itemgetter(1), reverse = True)[:n]) \n",
        "    return result"
      ],
      "metadata": {
        "id": "4EE_kpr9ZK35"
      },
      "execution_count": null,
      "outputs": []
    },
    {
      "cell_type": "code",
      "source": [
        "print(get_top_n(tf_idf_score, 5))"
      ],
      "metadata": {
        "id": "qdKMRj2BZOC6",
        "outputId": "5ca17893-53bd-43f2-8d5e-78c66e7a2b41",
        "colab": {
          "base_uri": "https://localhost:8080/"
        }
      },
      "execution_count": null,
      "outputs": [
        {
          "output_type": "stream",
          "name": "stdout",
          "text": [
            "{'graduate': 0.08470725854916317, 'want': 0.08470725854916317, 'learn': 0.08470725854916317, 'like': 0.08470725854916317, 'learning': 0.08470725854916317}\n"
          ]
        }
      ]
    },
    {
      "cell_type": "code",
      "source": [
        "print(tf_idf_score)"
      ],
      "metadata": {
        "colab": {
          "base_uri": "https://localhost:8080/"
        },
        "id": "xO1Sw1FTu9CE",
        "outputId": "008e0998-75ce-42b2-a083-3b19e1b9e071"
      },
      "execution_count": null,
      "outputs": [
        {
          "output_type": "stream",
          "name": "stdout",
          "text": [
            "{'I': 0.08065667743673537, 'graduate': 0.08470725854916317, 'want': 0.08470725854916317, 'learn': 0.08470725854916317, 'Python': 0.04697758975035995, 'like': 0.08470725854916317, 'learning': 0.08470725854916317, 'easy': 0.08470725854916317, 'interesting': 0.08470725854916317}\n"
          ]
        }
      ]
    },
    {
      "cell_type": "code",
      "source": [],
      "metadata": {
        "id": "eCvhh_1bvHc1"
      },
      "execution_count": null,
      "outputs": []
    }
  ]
}