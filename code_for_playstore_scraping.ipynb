{
  "nbformat": 4,
  "nbformat_minor": 0,
  "metadata": {
    "colab": {
      "provenance": [],
      "authorship_tag": "ABX9TyOnULIV12OEOOcfFmeVvl1w",
      "include_colab_link": true
    },
    "kernelspec": {
      "name": "python3",
      "display_name": "Python 3"
    },
    "language_info": {
      "name": "python"
    },
    "accelerator": "GPU",
    "gpuClass": "standard"
  },
  "cells": [
    {
      "cell_type": "markdown",
      "metadata": {
        "id": "view-in-github",
        "colab_type": "text"
      },
      "source": [
        "<a href=\"https://colab.research.google.com/github/arjunsumina/analytics_code/blob/main/code_for_playstore_scraping.ipynb\" target=\"_parent\"><img src=\"https://colab.research.google.com/assets/colab-badge.svg\" alt=\"Open In Colab\"/></a>"
      ]
    },
    {
      "cell_type": "code",
      "execution_count": null,
      "metadata": {
        "colab": {
          "base_uri": "https://localhost:8080/"
        },
        "id": "Z2sjw8zQ9PHM",
        "outputId": "eafd3803-4195-443a-e30c-5750e84898dd"
      },
      "outputs": [
        {
          "output_type": "stream",
          "name": "stdout",
          "text": [
            "Looking in indexes: https://pypi.org/simple, https://us-python.pkg.dev/colab-wheels/public/simple/\n",
            "Collecting google-play-scraper\n",
            "  Downloading google_play_scraper-1.2.2-py3-none-any.whl (28 kB)\n",
            "Installing collected packages: google-play-scraper\n",
            "Successfully installed google-play-scraper-1.2.2\n"
          ]
        }
      ],
      "source": [
        "pip install google-play-scraper"
      ]
    },
    {
      "cell_type": "code",
      "source": [
        "import torch\n",
        "torch.cuda.get_device_name(0)"
      ],
      "metadata": {
        "colab": {
          "base_uri": "https://localhost:8080/",
          "height": 35
        },
        "id": "7vsZ2eGOmNe_",
        "outputId": "aed885be-7a9e-4592-84b5-8d6107a203c7"
      },
      "execution_count": null,
      "outputs": [
        {
          "output_type": "execute_result",
          "data": {
            "text/plain": [
              "'Tesla T4'"
            ],
            "application/vnd.google.colaboratory.intrinsic+json": {
              "type": "string"
            }
          },
          "metadata": {},
          "execution_count": 2
        }
      ]
    },
    {
      "cell_type": "code",
      "source": [
        "from google_play_scraper import app\n",
        "\n",
        "import pandas as pd\n",
        "\n",
        "import numpy as np"
      ],
      "metadata": {
        "id": "p9QYou9c9wdd"
      },
      "execution_count": null,
      "outputs": []
    },
    {
      "cell_type": "markdown",
      "source": [
        "com.ksbcvirtualq is the app id of bevq application\n"
      ],
      "metadata": {
        "id": "B7oisVpd-NQ1"
      }
    },
    {
      "cell_type": "code",
      "source": [
        "\n",
        "\n",
        "from google_play_scraper import Sort, reviews_all\n",
        "\n",
        "\n",
        "us_reviews = reviews_all(\n",
        "    'com.ksbcvirtualq',\n",
        "    sleep_milliseconds=0, # defaults to 0\n",
        "    lang='en', # defaults to 'en'\n",
        "    sort=Sort.NEWEST, # defaults to Sort.MOST_RELEVANT\n",
        ")\n"
      ],
      "metadata": {
        "id": "x6JPloIA-DR4"
      },
      "execution_count": null,
      "outputs": []
    },
    {
      "cell_type": "code",
      "source": [
        "type(us_reviews)"
      ],
      "metadata": {
        "colab": {
          "base_uri": "https://localhost:8080/"
        },
        "id": "1i27ZkYP4kT4",
        "outputId": "61397fff-2df0-41e1-a18d-c2c7c570ebcd"
      },
      "execution_count": null,
      "outputs": [
        {
          "output_type": "execute_result",
          "data": {
            "text/plain": [
              "list"
            ]
          },
          "metadata": {},
          "execution_count": 7
        }
      ]
    },
    {
      "cell_type": "code",
      "source": [
        "print(us_reviews)"
      ],
      "metadata": {
        "colab": {
          "base_uri": "https://localhost:8080/"
        },
        "id": "aSRrhWtT5ya2",
        "outputId": "17fa4348-43a4-43e0-cf01-e7265be216b2"
      },
      "execution_count": null,
      "outputs": [
        {
          "output_type": "stream",
          "name": "stderr",
          "text": [
            "IOPub data rate exceeded.\n",
            "The notebook server will temporarily stop sending output\n",
            "to the client in order to avoid crashing it.\n",
            "To change this limit, set the config variable\n",
            "`--NotebookApp.iopub_data_rate_limit`.\n",
            "\n",
            "Current values:\n",
            "NotebookApp.iopub_data_rate_limit=1000000.0 (bytes/sec)\n",
            "NotebookApp.rate_limit_window=3.0 (secs)\n",
            "\n"
          ]
        }
      ]
    },
    {
      "cell_type": "code",
      "source": [
        "print(us_reviews[0])"
      ],
      "metadata": {
        "colab": {
          "base_uri": "https://localhost:8080/"
        },
        "id": "Z4QwZ1Ok5I_6",
        "outputId": "a98e459c-b720-438c-c132-bb54e076c431"
      },
      "execution_count": null,
      "outputs": [
        {
          "output_type": "stream",
          "name": "stdout",
          "text": [
            "{'reviewId': '6ba6094a-9e42-4833-8748-408c019b6c09', 'userName': 'Albin c s', 'userImage': 'https://play-lh.googleusercontent.com/a-/AD5-WClxW0jA-go7YSvEHOeZlKW-84_evJCdmFI_kZ1ZlQ', 'content': 'Worst app', 'score': 1, 'thumbsUpCount': 0, 'reviewCreatedVersion': '8.0', 'at': datetime.datetime(2022, 12, 31, 11, 45, 21), 'replyContent': None, 'repliedAt': None}\n"
          ]
        }
      ]
    },
    {
      "cell_type": "code",
      "source": [
        "print(np.array((us_reviews[0],us_reviews[1])))"
      ],
      "metadata": {
        "colab": {
          "base_uri": "https://localhost:8080/"
        },
        "id": "3z3YHRtt5Spy",
        "outputId": "40626008-203a-43d1-d8e6-67c153c26327"
      },
      "execution_count": null,
      "outputs": [
        {
          "output_type": "stream",
          "name": "stdout",
          "text": [
            "[{'reviewId': '6ba6094a-9e42-4833-8748-408c019b6c09', 'userName': 'Albin c s', 'userImage': 'https://play-lh.googleusercontent.com/a-/AD5-WClxW0jA-go7YSvEHOeZlKW-84_evJCdmFI_kZ1ZlQ', 'content': 'Worst app', 'score': 1, 'thumbsUpCount': 0, 'reviewCreatedVersion': '8.0', 'at': datetime.datetime(2022, 12, 31, 11, 45, 21), 'replyContent': None, 'repliedAt': None}\n",
            " {'reviewId': '93e5455b-25ba-473e-8f4b-361cf236e0d0', 'userName': 'AJU V', 'userImage': 'https://play-lh.googleusercontent.com/a-/AD5-WCm0mltwmS2s4LTKD2acNCnltkmjH9nJCj_tGxw5eHo', 'content': 'Worst app ever I see', 'score': 1, 'thumbsUpCount': 0, 'reviewCreatedVersion': None, 'at': datetime.datetime(2022, 12, 26, 17, 55, 19), 'replyContent': None, 'repliedAt': None}]\n"
          ]
        }
      ]
    },
    {
      "cell_type": "code",
      "source": [
        "print(np.array(us_reviews))"
      ],
      "metadata": {
        "colab": {
          "base_uri": "https://localhost:8080/"
        },
        "id": "NkFisb6T5lE6",
        "outputId": "54a189ad-6cc8-4941-f6c0-320e8c4efd4c"
      },
      "execution_count": null,
      "outputs": [
        {
          "output_type": "stream",
          "name": "stdout",
          "text": [
            "[{'reviewId': '6ba6094a-9e42-4833-8748-408c019b6c09', 'userName': 'Albin c s', 'userImage': 'https://play-lh.googleusercontent.com/a-/AD5-WClxW0jA-go7YSvEHOeZlKW-84_evJCdmFI_kZ1ZlQ', 'content': 'Worst app', 'score': 1, 'thumbsUpCount': 0, 'reviewCreatedVersion': '8.0', 'at': datetime.datetime(2022, 12, 31, 11, 45, 21), 'replyContent': None, 'repliedAt': None}\n",
            " {'reviewId': '93e5455b-25ba-473e-8f4b-361cf236e0d0', 'userName': 'AJU V', 'userImage': 'https://play-lh.googleusercontent.com/a-/AD5-WCm0mltwmS2s4LTKD2acNCnltkmjH9nJCj_tGxw5eHo', 'content': 'Worst app ever I see', 'score': 1, 'thumbsUpCount': 0, 'reviewCreatedVersion': None, 'at': datetime.datetime(2022, 12, 26, 17, 55, 19), 'replyContent': None, 'repliedAt': None}\n",
            " {'reviewId': 'e4134b3d-6059-4f74-a226-c84213389a7d', 'userName': 'Anandu Aman', 'userImage': 'https://play-lh.googleusercontent.com/a-/AD5-WClhd1hBpCr702XUWZjCr7zICD827k4XrY4Lc1LM1Q', 'content': 'Not working', 'score': 1, 'thumbsUpCount': 0, 'reviewCreatedVersion': '8.0', 'at': datetime.datetime(2022, 12, 25, 10, 41), 'replyContent': None, 'repliedAt': None}\n",
            " ...\n",
            " {'reviewId': 'a264edc3-7d26-4de0-b8dc-bc47909690ce', 'userName': 'Alan John', 'userImage': 'https://play-lh.googleusercontent.com/a-/AD5-WCnvnTxDbFimOuIXXgUvsmSr1i3zU_3jF6XBpPt6OQ', 'content': 'Not working', 'score': 1, 'thumbsUpCount': 2, 'reviewCreatedVersion': None, 'at': datetime.datetime(2020, 5, 27, 17, 17, 3), 'replyContent': None, 'repliedAt': None}\n",
            " {'reviewId': '30130b29-7259-4d21-941c-189b9d3f11d1', 'userName': 'Joyal Peter', 'userImage': 'https://play-lh.googleusercontent.com/a-/AD5-WCk9JSpobKGkE6bgJUYiLUIUCZqIt5Nm1a690nM_Fg', 'content': 'Ldf varum ellam sheriyaakum.', 'score': 5, 'thumbsUpCount': 40, 'reviewCreatedVersion': '3.0', 'at': datetime.datetime(2020, 5, 27, 17, 15, 51), 'replyContent': None, 'repliedAt': None}\n",
            " {'reviewId': 'ade5a036-d302-4194-9e4c-d9f3b58ae67f', 'userName': 'Vijesh K', 'userImage': 'https://play-lh.googleusercontent.com/a-/AD5-WClIoeXJKggq0c80C-GD9UyZBdC4H2CRyhufJGnUiQ', 'content': 'Pwoli', 'score': 5, 'thumbsUpCount': 4, 'reviewCreatedVersion': '3.0', 'at': datetime.datetime(2020, 5, 27, 17, 15, 37), 'replyContent': None, 'repliedAt': None}]\n"
          ]
        }
      ]
    },
    {
      "cell_type": "code",
      "source": [
        "arr = np.array((1, 2, 3, 4, 5))\n",
        "\n",
        "print(arr) "
      ],
      "metadata": {
        "colab": {
          "base_uri": "https://localhost:8080/"
        },
        "id": "hnXa2TXm5sxb",
        "outputId": "d4402da1-a207-4e0c-a911-da283ff16bca"
      },
      "execution_count": null,
      "outputs": [
        {
          "output_type": "stream",
          "name": "stdout",
          "text": [
            "[1 2 3 4 5]\n"
          ]
        }
      ]
    },
    {
      "cell_type": "markdown",
      "source": [
        "LETS US CREATE THE BEVQ DATA FRAME"
      ],
      "metadata": {
        "id": "-HdtIYAVAk_T"
      }
    },
    {
      "cell_type": "code",
      "source": [
        "bevq_df = pd.DataFrame(np.array(us_reviews),columns=['review'])\n",
        "bevq_df.head()\n"
      ],
      "metadata": {
        "colab": {
          "base_uri": "https://localhost:8080/",
          "height": 206
        },
        "id": "ckhu-O7x625J",
        "outputId": "976fff35-2170-4d40-a8ba-86b6e1fe110b"
      },
      "execution_count": null,
      "outputs": [
        {
          "output_type": "execute_result",
          "data": {
            "text/plain": [
              "                                              review\n",
              "0  {'reviewId': '6ba6094a-9e42-4833-8748-408c019b...\n",
              "1  {'reviewId': '93e5455b-25ba-473e-8f4b-361cf236...\n",
              "2  {'reviewId': 'e4134b3d-6059-4f74-a226-c8421338...\n",
              "3  {'reviewId': '7e690535-ecdb-4e18-84ed-386dc66a...\n",
              "4  {'reviewId': '9210745c-33a4-4bd9-b35d-849e77c8..."
            ],
            "text/html": [
              "\n",
              "  <div id=\"df-4da71030-65a3-4f3c-b017-b19d805153a9\">\n",
              "    <div class=\"colab-df-container\">\n",
              "      <div>\n",
              "<style scoped>\n",
              "    .dataframe tbody tr th:only-of-type {\n",
              "        vertical-align: middle;\n",
              "    }\n",
              "\n",
              "    .dataframe tbody tr th {\n",
              "        vertical-align: top;\n",
              "    }\n",
              "\n",
              "    .dataframe thead th {\n",
              "        text-align: right;\n",
              "    }\n",
              "</style>\n",
              "<table border=\"1\" class=\"dataframe\">\n",
              "  <thead>\n",
              "    <tr style=\"text-align: right;\">\n",
              "      <th></th>\n",
              "      <th>review</th>\n",
              "    </tr>\n",
              "  </thead>\n",
              "  <tbody>\n",
              "    <tr>\n",
              "      <th>0</th>\n",
              "      <td>{'reviewId': '6ba6094a-9e42-4833-8748-408c019b...</td>\n",
              "    </tr>\n",
              "    <tr>\n",
              "      <th>1</th>\n",
              "      <td>{'reviewId': '93e5455b-25ba-473e-8f4b-361cf236...</td>\n",
              "    </tr>\n",
              "    <tr>\n",
              "      <th>2</th>\n",
              "      <td>{'reviewId': 'e4134b3d-6059-4f74-a226-c8421338...</td>\n",
              "    </tr>\n",
              "    <tr>\n",
              "      <th>3</th>\n",
              "      <td>{'reviewId': '7e690535-ecdb-4e18-84ed-386dc66a...</td>\n",
              "    </tr>\n",
              "    <tr>\n",
              "      <th>4</th>\n",
              "      <td>{'reviewId': '9210745c-33a4-4bd9-b35d-849e77c8...</td>\n",
              "    </tr>\n",
              "  </tbody>\n",
              "</table>\n",
              "</div>\n",
              "      <button class=\"colab-df-convert\" onclick=\"convertToInteractive('df-4da71030-65a3-4f3c-b017-b19d805153a9')\"\n",
              "              title=\"Convert this dataframe to an interactive table.\"\n",
              "              style=\"display:none;\">\n",
              "        \n",
              "  <svg xmlns=\"http://www.w3.org/2000/svg\" height=\"24px\"viewBox=\"0 0 24 24\"\n",
              "       width=\"24px\">\n",
              "    <path d=\"M0 0h24v24H0V0z\" fill=\"none\"/>\n",
              "    <path d=\"M18.56 5.44l.94 2.06.94-2.06 2.06-.94-2.06-.94-.94-2.06-.94 2.06-2.06.94zm-11 1L8.5 8.5l.94-2.06 2.06-.94-2.06-.94L8.5 2.5l-.94 2.06-2.06.94zm10 10l.94 2.06.94-2.06 2.06-.94-2.06-.94-.94-2.06-.94 2.06-2.06.94z\"/><path d=\"M17.41 7.96l-1.37-1.37c-.4-.4-.92-.59-1.43-.59-.52 0-1.04.2-1.43.59L10.3 9.45l-7.72 7.72c-.78.78-.78 2.05 0 2.83L4 21.41c.39.39.9.59 1.41.59.51 0 1.02-.2 1.41-.59l7.78-7.78 2.81-2.81c.8-.78.8-2.07 0-2.86zM5.41 20L4 18.59l7.72-7.72 1.47 1.35L5.41 20z\"/>\n",
              "  </svg>\n",
              "      </button>\n",
              "      \n",
              "  <style>\n",
              "    .colab-df-container {\n",
              "      display:flex;\n",
              "      flex-wrap:wrap;\n",
              "      gap: 12px;\n",
              "    }\n",
              "\n",
              "    .colab-df-convert {\n",
              "      background-color: #E8F0FE;\n",
              "      border: none;\n",
              "      border-radius: 50%;\n",
              "      cursor: pointer;\n",
              "      display: none;\n",
              "      fill: #1967D2;\n",
              "      height: 32px;\n",
              "      padding: 0 0 0 0;\n",
              "      width: 32px;\n",
              "    }\n",
              "\n",
              "    .colab-df-convert:hover {\n",
              "      background-color: #E2EBFA;\n",
              "      box-shadow: 0px 1px 2px rgba(60, 64, 67, 0.3), 0px 1px 3px 1px rgba(60, 64, 67, 0.15);\n",
              "      fill: #174EA6;\n",
              "    }\n",
              "\n",
              "    [theme=dark] .colab-df-convert {\n",
              "      background-color: #3B4455;\n",
              "      fill: #D2E3FC;\n",
              "    }\n",
              "\n",
              "    [theme=dark] .colab-df-convert:hover {\n",
              "      background-color: #434B5C;\n",
              "      box-shadow: 0px 1px 3px 1px rgba(0, 0, 0, 0.15);\n",
              "      filter: drop-shadow(0px 1px 2px rgba(0, 0, 0, 0.3));\n",
              "      fill: #FFFFFF;\n",
              "    }\n",
              "  </style>\n",
              "\n",
              "      <script>\n",
              "        const buttonEl =\n",
              "          document.querySelector('#df-4da71030-65a3-4f3c-b017-b19d805153a9 button.colab-df-convert');\n",
              "        buttonEl.style.display =\n",
              "          google.colab.kernel.accessAllowed ? 'block' : 'none';\n",
              "\n",
              "        async function convertToInteractive(key) {\n",
              "          const element = document.querySelector('#df-4da71030-65a3-4f3c-b017-b19d805153a9');\n",
              "          const dataTable =\n",
              "            await google.colab.kernel.invokeFunction('convertToInteractive',\n",
              "                                                     [key], {});\n",
              "          if (!dataTable) return;\n",
              "\n",
              "          const docLinkHtml = 'Like what you see? Visit the ' +\n",
              "            '<a target=\"_blank\" href=https://colab.research.google.com/notebooks/data_table.ipynb>data table notebook</a>'\n",
              "            + ' to learn more about interactive tables.';\n",
              "          element.innerHTML = '';\n",
              "          dataTable['output_type'] = 'display_data';\n",
              "          await google.colab.output.renderOutput(dataTable, element);\n",
              "          const docLink = document.createElement('div');\n",
              "          docLink.innerHTML = docLinkHtml;\n",
              "          element.appendChild(docLink);\n",
              "        }\n",
              "      </script>\n",
              "    </div>\n",
              "  </div>\n",
              "  "
            ]
          },
          "metadata": {},
          "execution_count": 39
        }
      ]
    },
    {
      "cell_type": "code",
      "source": [
        "bevq_df = bevq_df.join(pd.DataFrame(bevq_df.pop('review').tolist()))\n",
        "bevq_df.head()"
      ],
      "metadata": {
        "id": "Oe9H0M4x_ciV",
        "colab": {
          "base_uri": "https://localhost:8080/",
          "height": 461
        },
        "outputId": "33ce8bcd-fe40-4e8d-f2dc-fd3ca47f1a93"
      },
      "execution_count": null,
      "outputs": [
        {
          "output_type": "execute_result",
          "data": {
            "text/plain": [
              "                               reviewId                         userName  \\\n",
              "0  6ba6094a-9e42-4833-8748-408c019b6c09                        Albin c s   \n",
              "1  93e5455b-25ba-473e-8f4b-361cf236e0d0                            AJU V   \n",
              "2  e4134b3d-6059-4f74-a226-c84213389a7d                      Anandu Aman   \n",
              "3  7e690535-ecdb-4e18-84ed-386dc66af845  JIMMY MATHEWS THARAYIL THARAYIL   \n",
              "4  9210745c-33a4-4bd9-b35d-849e77c8e823                       Vishnu T B   \n",
              "\n",
              "                                           userImage               content  \\\n",
              "0  https://play-lh.googleusercontent.com/a-/AD5-W...             Worst app   \n",
              "1  https://play-lh.googleusercontent.com/a-/AD5-W...  Worst app ever I see   \n",
              "2  https://play-lh.googleusercontent.com/a-/AD5-W...           Not working   \n",
              "3  https://play-lh.googleusercontent.com/a-/AD5-W...         Fuel for life   \n",
              "4  https://play-lh.googleusercontent.com/a-/AD5-W...       Login disabled?   \n",
              "\n",
              "   score  thumbsUpCount reviewCreatedVersion                  at replyContent  \\\n",
              "0      1              0                  8.0 2022-12-31 11:45:21         None   \n",
              "1      1              0                 None 2022-12-26 17:55:19         None   \n",
              "2      1              0                  8.0 2022-12-25 10:41:00         None   \n",
              "3      5              0                 None 2022-12-24 11:49:51         None   \n",
              "4      2              1                  8.0 2022-12-17 09:15:25         None   \n",
              "\n",
              "  repliedAt  \n",
              "0      None  \n",
              "1      None  \n",
              "2      None  \n",
              "3      None  \n",
              "4      None  "
            ],
            "text/html": [
              "\n",
              "  <div id=\"df-d29a199b-0b52-4a06-bc7e-384e5aeb3620\">\n",
              "    <div class=\"colab-df-container\">\n",
              "      <div>\n",
              "<style scoped>\n",
              "    .dataframe tbody tr th:only-of-type {\n",
              "        vertical-align: middle;\n",
              "    }\n",
              "\n",
              "    .dataframe tbody tr th {\n",
              "        vertical-align: top;\n",
              "    }\n",
              "\n",
              "    .dataframe thead th {\n",
              "        text-align: right;\n",
              "    }\n",
              "</style>\n",
              "<table border=\"1\" class=\"dataframe\">\n",
              "  <thead>\n",
              "    <tr style=\"text-align: right;\">\n",
              "      <th></th>\n",
              "      <th>reviewId</th>\n",
              "      <th>userName</th>\n",
              "      <th>userImage</th>\n",
              "      <th>content</th>\n",
              "      <th>score</th>\n",
              "      <th>thumbsUpCount</th>\n",
              "      <th>reviewCreatedVersion</th>\n",
              "      <th>at</th>\n",
              "      <th>replyContent</th>\n",
              "      <th>repliedAt</th>\n",
              "    </tr>\n",
              "  </thead>\n",
              "  <tbody>\n",
              "    <tr>\n",
              "      <th>0</th>\n",
              "      <td>6ba6094a-9e42-4833-8748-408c019b6c09</td>\n",
              "      <td>Albin c s</td>\n",
              "      <td>https://play-lh.googleusercontent.com/a-/AD5-W...</td>\n",
              "      <td>Worst app</td>\n",
              "      <td>1</td>\n",
              "      <td>0</td>\n",
              "      <td>8.0</td>\n",
              "      <td>2022-12-31 11:45:21</td>\n",
              "      <td>None</td>\n",
              "      <td>None</td>\n",
              "    </tr>\n",
              "    <tr>\n",
              "      <th>1</th>\n",
              "      <td>93e5455b-25ba-473e-8f4b-361cf236e0d0</td>\n",
              "      <td>AJU V</td>\n",
              "      <td>https://play-lh.googleusercontent.com/a-/AD5-W...</td>\n",
              "      <td>Worst app ever I see</td>\n",
              "      <td>1</td>\n",
              "      <td>0</td>\n",
              "      <td>None</td>\n",
              "      <td>2022-12-26 17:55:19</td>\n",
              "      <td>None</td>\n",
              "      <td>None</td>\n",
              "    </tr>\n",
              "    <tr>\n",
              "      <th>2</th>\n",
              "      <td>e4134b3d-6059-4f74-a226-c84213389a7d</td>\n",
              "      <td>Anandu Aman</td>\n",
              "      <td>https://play-lh.googleusercontent.com/a-/AD5-W...</td>\n",
              "      <td>Not working</td>\n",
              "      <td>1</td>\n",
              "      <td>0</td>\n",
              "      <td>8.0</td>\n",
              "      <td>2022-12-25 10:41:00</td>\n",
              "      <td>None</td>\n",
              "      <td>None</td>\n",
              "    </tr>\n",
              "    <tr>\n",
              "      <th>3</th>\n",
              "      <td>7e690535-ecdb-4e18-84ed-386dc66af845</td>\n",
              "      <td>JIMMY MATHEWS THARAYIL THARAYIL</td>\n",
              "      <td>https://play-lh.googleusercontent.com/a-/AD5-W...</td>\n",
              "      <td>Fuel for life</td>\n",
              "      <td>5</td>\n",
              "      <td>0</td>\n",
              "      <td>None</td>\n",
              "      <td>2022-12-24 11:49:51</td>\n",
              "      <td>None</td>\n",
              "      <td>None</td>\n",
              "    </tr>\n",
              "    <tr>\n",
              "      <th>4</th>\n",
              "      <td>9210745c-33a4-4bd9-b35d-849e77c8e823</td>\n",
              "      <td>Vishnu T B</td>\n",
              "      <td>https://play-lh.googleusercontent.com/a-/AD5-W...</td>\n",
              "      <td>Login disabled?</td>\n",
              "      <td>2</td>\n",
              "      <td>1</td>\n",
              "      <td>8.0</td>\n",
              "      <td>2022-12-17 09:15:25</td>\n",
              "      <td>None</td>\n",
              "      <td>None</td>\n",
              "    </tr>\n",
              "  </tbody>\n",
              "</table>\n",
              "</div>\n",
              "      <button class=\"colab-df-convert\" onclick=\"convertToInteractive('df-d29a199b-0b52-4a06-bc7e-384e5aeb3620')\"\n",
              "              title=\"Convert this dataframe to an interactive table.\"\n",
              "              style=\"display:none;\">\n",
              "        \n",
              "  <svg xmlns=\"http://www.w3.org/2000/svg\" height=\"24px\"viewBox=\"0 0 24 24\"\n",
              "       width=\"24px\">\n",
              "    <path d=\"M0 0h24v24H0V0z\" fill=\"none\"/>\n",
              "    <path d=\"M18.56 5.44l.94 2.06.94-2.06 2.06-.94-2.06-.94-.94-2.06-.94 2.06-2.06.94zm-11 1L8.5 8.5l.94-2.06 2.06-.94-2.06-.94L8.5 2.5l-.94 2.06-2.06.94zm10 10l.94 2.06.94-2.06 2.06-.94-2.06-.94-.94-2.06-.94 2.06-2.06.94z\"/><path d=\"M17.41 7.96l-1.37-1.37c-.4-.4-.92-.59-1.43-.59-.52 0-1.04.2-1.43.59L10.3 9.45l-7.72 7.72c-.78.78-.78 2.05 0 2.83L4 21.41c.39.39.9.59 1.41.59.51 0 1.02-.2 1.41-.59l7.78-7.78 2.81-2.81c.8-.78.8-2.07 0-2.86zM5.41 20L4 18.59l7.72-7.72 1.47 1.35L5.41 20z\"/>\n",
              "  </svg>\n",
              "      </button>\n",
              "      \n",
              "  <style>\n",
              "    .colab-df-container {\n",
              "      display:flex;\n",
              "      flex-wrap:wrap;\n",
              "      gap: 12px;\n",
              "    }\n",
              "\n",
              "    .colab-df-convert {\n",
              "      background-color: #E8F0FE;\n",
              "      border: none;\n",
              "      border-radius: 50%;\n",
              "      cursor: pointer;\n",
              "      display: none;\n",
              "      fill: #1967D2;\n",
              "      height: 32px;\n",
              "      padding: 0 0 0 0;\n",
              "      width: 32px;\n",
              "    }\n",
              "\n",
              "    .colab-df-convert:hover {\n",
              "      background-color: #E2EBFA;\n",
              "      box-shadow: 0px 1px 2px rgba(60, 64, 67, 0.3), 0px 1px 3px 1px rgba(60, 64, 67, 0.15);\n",
              "      fill: #174EA6;\n",
              "    }\n",
              "\n",
              "    [theme=dark] .colab-df-convert {\n",
              "      background-color: #3B4455;\n",
              "      fill: #D2E3FC;\n",
              "    }\n",
              "\n",
              "    [theme=dark] .colab-df-convert:hover {\n",
              "      background-color: #434B5C;\n",
              "      box-shadow: 0px 1px 3px 1px rgba(0, 0, 0, 0.15);\n",
              "      filter: drop-shadow(0px 1px 2px rgba(0, 0, 0, 0.3));\n",
              "      fill: #FFFFFF;\n",
              "    }\n",
              "  </style>\n",
              "\n",
              "      <script>\n",
              "        const buttonEl =\n",
              "          document.querySelector('#df-d29a199b-0b52-4a06-bc7e-384e5aeb3620 button.colab-df-convert');\n",
              "        buttonEl.style.display =\n",
              "          google.colab.kernel.accessAllowed ? 'block' : 'none';\n",
              "\n",
              "        async function convertToInteractive(key) {\n",
              "          const element = document.querySelector('#df-d29a199b-0b52-4a06-bc7e-384e5aeb3620');\n",
              "          const dataTable =\n",
              "            await google.colab.kernel.invokeFunction('convertToInteractive',\n",
              "                                                     [key], {});\n",
              "          if (!dataTable) return;\n",
              "\n",
              "          const docLinkHtml = 'Like what you see? Visit the ' +\n",
              "            '<a target=\"_blank\" href=https://colab.research.google.com/notebooks/data_table.ipynb>data table notebook</a>'\n",
              "            + ' to learn more about interactive tables.';\n",
              "          element.innerHTML = '';\n",
              "          dataTable['output_type'] = 'display_data';\n",
              "          await google.colab.output.renderOutput(dataTable, element);\n",
              "          const docLink = document.createElement('div');\n",
              "          docLink.innerHTML = docLinkHtml;\n",
              "          element.appendChild(docLink);\n",
              "        }\n",
              "      </script>\n",
              "    </div>\n",
              "  </div>\n",
              "  "
            ]
          },
          "metadata": {},
          "execution_count": 40
        }
      ]
    },
    {
      "cell_type": "code",
      "source": [
        "bevq_df.tail()"
      ],
      "metadata": {
        "id": "ZDDb2I_kBCpE",
        "outputId": "25f3a7ce-b7a3-48fb-ee47-672f21dddc71",
        "colab": {
          "base_uri": "https://localhost:8080/",
          "height": 444
        }
      },
      "execution_count": null,
      "outputs": [
        {
          "output_type": "execute_result",
          "data": {
            "text/plain": [
              "                                   reviewId       userName  \\\n",
              "26884  4d91d25f-9cad-4163-a5d3-05a2de3fff0a      Jineesh M   \n",
              "26885  01b0b772-8257-4e43-a27f-8ad4a8a707c8  Jorge Explore   \n",
              "26886  a264edc3-7d26-4de0-b8dc-bc47909690ce      Alan John   \n",
              "26887  30130b29-7259-4d21-941c-189b9d3f11d1    Joyal Peter   \n",
              "26888  ade5a036-d302-4194-9e4c-d9f3b58ae67f       Vijesh K   \n",
              "\n",
              "                                               userImage  \\\n",
              "26884  https://play-lh.googleusercontent.com/a-/AD5-W...   \n",
              "26885  https://play-lh.googleusercontent.com/a-/AD5-W...   \n",
              "26886  https://play-lh.googleusercontent.com/a-/AD5-W...   \n",
              "26887  https://play-lh.googleusercontent.com/a-/AD5-W...   \n",
              "26888  https://play-lh.googleusercontent.com/a-/AD5-W...   \n",
              "\n",
              "                            content  score  thumbsUpCount  \\\n",
              "26884                          Good      5              0   \n",
              "26885                          Mood      5              2   \n",
              "26886                   Not working      1              2   \n",
              "26887  Ldf varum ellam sheriyaakum.      5             40   \n",
              "26888                         Pwoli      5              4   \n",
              "\n",
              "      reviewCreatedVersion                  at replyContent repliedAt  \n",
              "26884                 None 2020-05-27 17:19:03         None      None  \n",
              "26885                 None 2020-05-27 17:18:31         None      None  \n",
              "26886                 None 2020-05-27 17:17:03         None      None  \n",
              "26887                  3.0 2020-05-27 17:15:51         None      None  \n",
              "26888                  3.0 2020-05-27 17:15:37         None      None  "
            ],
            "text/html": [
              "\n",
              "  <div id=\"df-c4506447-fa2c-40fa-b53e-7d294d970656\">\n",
              "    <div class=\"colab-df-container\">\n",
              "      <div>\n",
              "<style scoped>\n",
              "    .dataframe tbody tr th:only-of-type {\n",
              "        vertical-align: middle;\n",
              "    }\n",
              "\n",
              "    .dataframe tbody tr th {\n",
              "        vertical-align: top;\n",
              "    }\n",
              "\n",
              "    .dataframe thead th {\n",
              "        text-align: right;\n",
              "    }\n",
              "</style>\n",
              "<table border=\"1\" class=\"dataframe\">\n",
              "  <thead>\n",
              "    <tr style=\"text-align: right;\">\n",
              "      <th></th>\n",
              "      <th>reviewId</th>\n",
              "      <th>userName</th>\n",
              "      <th>userImage</th>\n",
              "      <th>content</th>\n",
              "      <th>score</th>\n",
              "      <th>thumbsUpCount</th>\n",
              "      <th>reviewCreatedVersion</th>\n",
              "      <th>at</th>\n",
              "      <th>replyContent</th>\n",
              "      <th>repliedAt</th>\n",
              "    </tr>\n",
              "  </thead>\n",
              "  <tbody>\n",
              "    <tr>\n",
              "      <th>26884</th>\n",
              "      <td>4d91d25f-9cad-4163-a5d3-05a2de3fff0a</td>\n",
              "      <td>Jineesh M</td>\n",
              "      <td>https://play-lh.googleusercontent.com/a-/AD5-W...</td>\n",
              "      <td>Good</td>\n",
              "      <td>5</td>\n",
              "      <td>0</td>\n",
              "      <td>None</td>\n",
              "      <td>2020-05-27 17:19:03</td>\n",
              "      <td>None</td>\n",
              "      <td>None</td>\n",
              "    </tr>\n",
              "    <tr>\n",
              "      <th>26885</th>\n",
              "      <td>01b0b772-8257-4e43-a27f-8ad4a8a707c8</td>\n",
              "      <td>Jorge Explore</td>\n",
              "      <td>https://play-lh.googleusercontent.com/a-/AD5-W...</td>\n",
              "      <td>Mood</td>\n",
              "      <td>5</td>\n",
              "      <td>2</td>\n",
              "      <td>None</td>\n",
              "      <td>2020-05-27 17:18:31</td>\n",
              "      <td>None</td>\n",
              "      <td>None</td>\n",
              "    </tr>\n",
              "    <tr>\n",
              "      <th>26886</th>\n",
              "      <td>a264edc3-7d26-4de0-b8dc-bc47909690ce</td>\n",
              "      <td>Alan John</td>\n",
              "      <td>https://play-lh.googleusercontent.com/a-/AD5-W...</td>\n",
              "      <td>Not working</td>\n",
              "      <td>1</td>\n",
              "      <td>2</td>\n",
              "      <td>None</td>\n",
              "      <td>2020-05-27 17:17:03</td>\n",
              "      <td>None</td>\n",
              "      <td>None</td>\n",
              "    </tr>\n",
              "    <tr>\n",
              "      <th>26887</th>\n",
              "      <td>30130b29-7259-4d21-941c-189b9d3f11d1</td>\n",
              "      <td>Joyal Peter</td>\n",
              "      <td>https://play-lh.googleusercontent.com/a-/AD5-W...</td>\n",
              "      <td>Ldf varum ellam sheriyaakum.</td>\n",
              "      <td>5</td>\n",
              "      <td>40</td>\n",
              "      <td>3.0</td>\n",
              "      <td>2020-05-27 17:15:51</td>\n",
              "      <td>None</td>\n",
              "      <td>None</td>\n",
              "    </tr>\n",
              "    <tr>\n",
              "      <th>26888</th>\n",
              "      <td>ade5a036-d302-4194-9e4c-d9f3b58ae67f</td>\n",
              "      <td>Vijesh K</td>\n",
              "      <td>https://play-lh.googleusercontent.com/a-/AD5-W...</td>\n",
              "      <td>Pwoli</td>\n",
              "      <td>5</td>\n",
              "      <td>4</td>\n",
              "      <td>3.0</td>\n",
              "      <td>2020-05-27 17:15:37</td>\n",
              "      <td>None</td>\n",
              "      <td>None</td>\n",
              "    </tr>\n",
              "  </tbody>\n",
              "</table>\n",
              "</div>\n",
              "      <button class=\"colab-df-convert\" onclick=\"convertToInteractive('df-c4506447-fa2c-40fa-b53e-7d294d970656')\"\n",
              "              title=\"Convert this dataframe to an interactive table.\"\n",
              "              style=\"display:none;\">\n",
              "        \n",
              "  <svg xmlns=\"http://www.w3.org/2000/svg\" height=\"24px\"viewBox=\"0 0 24 24\"\n",
              "       width=\"24px\">\n",
              "    <path d=\"M0 0h24v24H0V0z\" fill=\"none\"/>\n",
              "    <path d=\"M18.56 5.44l.94 2.06.94-2.06 2.06-.94-2.06-.94-.94-2.06-.94 2.06-2.06.94zm-11 1L8.5 8.5l.94-2.06 2.06-.94-2.06-.94L8.5 2.5l-.94 2.06-2.06.94zm10 10l.94 2.06.94-2.06 2.06-.94-2.06-.94-.94-2.06-.94 2.06-2.06.94z\"/><path d=\"M17.41 7.96l-1.37-1.37c-.4-.4-.92-.59-1.43-.59-.52 0-1.04.2-1.43.59L10.3 9.45l-7.72 7.72c-.78.78-.78 2.05 0 2.83L4 21.41c.39.39.9.59 1.41.59.51 0 1.02-.2 1.41-.59l7.78-7.78 2.81-2.81c.8-.78.8-2.07 0-2.86zM5.41 20L4 18.59l7.72-7.72 1.47 1.35L5.41 20z\"/>\n",
              "  </svg>\n",
              "      </button>\n",
              "      \n",
              "  <style>\n",
              "    .colab-df-container {\n",
              "      display:flex;\n",
              "      flex-wrap:wrap;\n",
              "      gap: 12px;\n",
              "    }\n",
              "\n",
              "    .colab-df-convert {\n",
              "      background-color: #E8F0FE;\n",
              "      border: none;\n",
              "      border-radius: 50%;\n",
              "      cursor: pointer;\n",
              "      display: none;\n",
              "      fill: #1967D2;\n",
              "      height: 32px;\n",
              "      padding: 0 0 0 0;\n",
              "      width: 32px;\n",
              "    }\n",
              "\n",
              "    .colab-df-convert:hover {\n",
              "      background-color: #E2EBFA;\n",
              "      box-shadow: 0px 1px 2px rgba(60, 64, 67, 0.3), 0px 1px 3px 1px rgba(60, 64, 67, 0.15);\n",
              "      fill: #174EA6;\n",
              "    }\n",
              "\n",
              "    [theme=dark] .colab-df-convert {\n",
              "      background-color: #3B4455;\n",
              "      fill: #D2E3FC;\n",
              "    }\n",
              "\n",
              "    [theme=dark] .colab-df-convert:hover {\n",
              "      background-color: #434B5C;\n",
              "      box-shadow: 0px 1px 3px 1px rgba(0, 0, 0, 0.15);\n",
              "      filter: drop-shadow(0px 1px 2px rgba(0, 0, 0, 0.3));\n",
              "      fill: #FFFFFF;\n",
              "    }\n",
              "  </style>\n",
              "\n",
              "      <script>\n",
              "        const buttonEl =\n",
              "          document.querySelector('#df-c4506447-fa2c-40fa-b53e-7d294d970656 button.colab-df-convert');\n",
              "        buttonEl.style.display =\n",
              "          google.colab.kernel.accessAllowed ? 'block' : 'none';\n",
              "\n",
              "        async function convertToInteractive(key) {\n",
              "          const element = document.querySelector('#df-c4506447-fa2c-40fa-b53e-7d294d970656');\n",
              "          const dataTable =\n",
              "            await google.colab.kernel.invokeFunction('convertToInteractive',\n",
              "                                                     [key], {});\n",
              "          if (!dataTable) return;\n",
              "\n",
              "          const docLinkHtml = 'Like what you see? Visit the ' +\n",
              "            '<a target=\"_blank\" href=https://colab.research.google.com/notebooks/data_table.ipynb>data table notebook</a>'\n",
              "            + ' to learn more about interactive tables.';\n",
              "          element.innerHTML = '';\n",
              "          dataTable['output_type'] = 'display_data';\n",
              "          await google.colab.output.renderOutput(dataTable, element);\n",
              "          const docLink = document.createElement('div');\n",
              "          docLink.innerHTML = docLinkHtml;\n",
              "          element.appendChild(docLink);\n",
              "        }\n",
              "      </script>\n",
              "    </div>\n",
              "  </div>\n",
              "  "
            ]
          },
          "metadata": {},
          "execution_count": 12
        }
      ]
    },
    {
      "cell_type": "markdown",
      "source": [
        "\n",
        "HEY, WE CAN DOWNLOAD THE SAVED DATA FRAME USING FILES FUNCTION"
      ],
      "metadata": {
        "id": "-bL6_Enk_4E0"
      }
    },
    {
      "cell_type": "code",
      "source": [
        "from google.colab import files\n",
        "bevq_df.to_csv('bevq_review.csv', encoding = 'utf-8-sig')\n",
        "#files.download('bevq_review.csv')"
      ],
      "metadata": {
        "id": "EiRC1Kij_7PI"
      },
      "execution_count": null,
      "outputs": []
    }
  ]
}