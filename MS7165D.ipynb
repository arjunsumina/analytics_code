{
  "nbformat": 4,
  "nbformat_minor": 0,
  "metadata": {
    "colab": {
      "provenance": [],
      "mount_file_id": "1q5Fd3-VPaHTyxjTpVnyRKoofvFf0VJOW",
      "authorship_tag": "ABX9TyM+zBQ1TB6ce3AT1wBlj3rd",
      "include_colab_link": true
    },
    "kernelspec": {
      "name": "python3",
      "display_name": "Python 3"
    },
    "language_info": {
      "name": "python"
    }
  },
  "cells": [
    {
      "cell_type": "markdown",
      "metadata": {
        "id": "view-in-github",
        "colab_type": "text"
      },
      "source": [
        "<a href=\"https://colab.research.google.com/github/arjunsumina/analytics_code/blob/main/MS7165D.ipynb\" target=\"_parent\"><img src=\"https://colab.research.google.com/assets/colab-badge.svg\" alt=\"Open In Colab\"/></a>"
      ]
    },
    {
      "cell_type": "markdown",
      "source": [
        "CODE CREATED BY ARJUN ANIL KUMAR\n",
        "11 OCTOBER 2023 TIME -9.19 AM\n",
        "\n",
        "code 1 : principal component analysis <br>\n",
        "         1. It is a mathematical operation done on strucutured data to convert a set of correlated columns into a set of columns with no correlation.<br>\n",
        "         2. It is also seen as a dimensionality reduction technique where a n*k structured data A can be converted to a n*m structured data B where m is less than k. <br>\n",
        "         3. The new k columns of B are not directly picked from n columns of A. In fact, each of the k columns can be represented as a linear combination of the some of the columns of A. <br>\n",
        "\n",
        "Goal : A wine data set is given to you and is loaded in my google drive. I have shared this file with you and you can use it.   \n",
        "\n",
        "The data set has around 13 features of wines that possibly determinermines its customer segment. The number of customer segments is 3. We need to develop a logistic regresion model using the information available in the features of the dataset.\n",
        "\n",
        "This example illustrates the power of the PCA to reduce the dimensions and create latent dimensions that can help int the predictions.\n",
        "*italicized text*\n"
      ],
      "metadata": {
        "id": "zp-3uKgusw8l"
      }
    },
    {
      "cell_type": "code",
      "execution_count": 6,
      "metadata": {
        "colab": {
          "base_uri": "https://localhost:8080/"
        },
        "id": "EVQiD7oXsuJ2",
        "outputId": "6b3185c8-d134-4703-cf75-8f53cbebbdc3"
      },
      "outputs": [
        {
          "output_type": "stream",
          "name": "stdout",
          "text": [
            "Mounted at /content/drive\n"
          ]
        }
      ],
      "source": [
        "# importing required libraries\n",
        "import numpy as np\n",
        "import matplotlib.pyplot as plt\n",
        "import pandas as pd\n",
        "\n",
        "from google.colab import drive\n",
        "drive.mount('/content/drive')"
      ]
    },
    {
      "cell_type": "code",
      "source": [
        "dataset = pd.read_csv('/content/drive/MyDrive/Nit_teaching/BIG_DATA/LAB_EXERCISES/data/wine_pca.csv')\n",
        "print(dataset)\n",
        "print('The number of elements in each column of dataset is')\n",
        "print(dataset.count())\n",
        "print('The total elements of the dataset or the size is')\n",
        "print(dataset.size)\n",
        "print('The dimension of the dataset is')\n",
        "print(dataset.ndim)\n",
        "print('The shape of the dataset is')\n",
        "print(dataset.shape)"
      ],
      "metadata": {
        "colab": {
          "base_uri": "https://localhost:8080/"
        },
        "id": "YeY4qgdrvAHI",
        "outputId": "36aa0e97-56e4-46c1-eeef-e84be10008bb"
      },
      "execution_count": 33,
      "outputs": [
        {
          "output_type": "stream",
          "name": "stdout",
          "text": [
            "     Alcohol  Malic_Acid   Ash  Ash_Alcanity  Magnesium  Total_Phenols  \\\n",
            "0      14.23        1.71  2.43          15.6        127           2.80   \n",
            "1      13.20        1.78  2.14          11.2        100           2.65   \n",
            "2      13.16        2.36  2.67          18.6        101           2.80   \n",
            "3      14.37        1.95  2.50          16.8        113           3.85   \n",
            "4      13.24        2.59  2.87          21.0        118           2.80   \n",
            "..       ...         ...   ...           ...        ...            ...   \n",
            "173    13.71        5.65  2.45          20.5         95           1.68   \n",
            "174    13.40        3.91  2.48          23.0        102           1.80   \n",
            "175    13.27        4.28  2.26          20.0        120           1.59   \n",
            "176    13.17        2.59  2.37          20.0        120           1.65   \n",
            "177    14.13        4.10  2.74          24.5         96           2.05   \n",
            "\n",
            "     Flavanoids  Nonflavanoid_Phenols  Proanthocyanins  Color_Intensity   Hue  \\\n",
            "0          3.06                  0.28             2.29             5.64  1.04   \n",
            "1          2.76                  0.26             1.28             4.38  1.05   \n",
            "2          3.24                  0.30             2.81             5.68  1.03   \n",
            "3          3.49                  0.24             2.18             7.80  0.86   \n",
            "4          2.69                  0.39             1.82             4.32  1.04   \n",
            "..          ...                   ...              ...              ...   ...   \n",
            "173        0.61                  0.52             1.06             7.70  0.64   \n",
            "174        0.75                  0.43             1.41             7.30  0.70   \n",
            "175        0.69                  0.43             1.35            10.20  0.59   \n",
            "176        0.68                  0.53             1.46             9.30  0.60   \n",
            "177        0.76                  0.56             1.35             9.20  0.61   \n",
            "\n",
            "     OD280  Proline  Customer_Segment  \n",
            "0     3.92     1065                 1  \n",
            "1     3.40     1050                 1  \n",
            "2     3.17     1185                 1  \n",
            "3     3.45     1480                 1  \n",
            "4     2.93      735                 1  \n",
            "..     ...      ...               ...  \n",
            "173   1.74      740                 3  \n",
            "174   1.56      750                 3  \n",
            "175   1.56      835                 3  \n",
            "176   1.62      840                 3  \n",
            "177   1.60      560                 3  \n",
            "\n",
            "[178 rows x 14 columns]\n",
            "The number of elements in each column of dataset is\n",
            "Alcohol                 178\n",
            "Malic_Acid              178\n",
            "Ash                     178\n",
            "Ash_Alcanity            178\n",
            "Magnesium               178\n",
            "Total_Phenols           178\n",
            "Flavanoids              178\n",
            "Nonflavanoid_Phenols    178\n",
            "Proanthocyanins         178\n",
            "Color_Intensity         178\n",
            "Hue                     178\n",
            "OD280                   178\n",
            "Proline                 178\n",
            "Customer_Segment        178\n",
            "dtype: int64\n",
            "The total elements of the dataset or the size is\n",
            "2492\n",
            "The dimension of the dataset is\n",
            "2\n",
            "The shape of the dataset is\n",
            "(178, 14)\n"
          ]
        }
      ]
    },
    {
      "cell_type": "code",
      "source": [
        "dataset.columns\n"
      ],
      "metadata": {
        "colab": {
          "base_uri": "https://localhost:8080/"
        },
        "id": "aoSoVYpPwQJA",
        "outputId": "306b10f1-7572-4bd7-de97-419102965c68"
      },
      "execution_count": 10,
      "outputs": [
        {
          "output_type": "execute_result",
          "data": {
            "text/plain": [
              "Index(['Alcohol', 'Malic_Acid', 'Ash', 'Ash_Alcanity', 'Magnesium',\n",
              "       'Total_Phenols', 'Flavanoids', 'Nonflavanoid_Phenols',\n",
              "       'Proanthocyanins', 'Color_Intensity', 'Hue', 'OD280', 'Proline',\n",
              "       'Customer_Segment'],\n",
              "      dtype='object')"
            ]
          },
          "metadata": {},
          "execution_count": 10
        }
      ]
    },
    {
      "cell_type": "code",
      "source": [
        "# create the dependent and independent variables\n",
        "independent_X = dataset.iloc[:, 0:13].values\n",
        "dependent_Y = dataset.iloc[:, 13].values"
      ],
      "metadata": {
        "id": "rGKd5KCZwgm-"
      },
      "execution_count": 11,
      "outputs": []
    },
    {
      "cell_type": "code",
      "source": [
        "print(dependent_Y)"
      ],
      "metadata": {
        "colab": {
          "base_uri": "https://localhost:8080/"
        },
        "id": "PRz4PkJ6wqPr",
        "outputId": "bb252f75-13fb-4ef2-a007-2ec5935f3b6f"
      },
      "execution_count": 12,
      "outputs": [
        {
          "output_type": "stream",
          "name": "stdout",
          "text": [
            "[1 1 1 1 1 1 1 1 1 1 1 1 1 1 1 1 1 1 1 1 1 1 1 1 1 1 1 1 1 1 1 1 1 1 1 1 1\n",
            " 1 1 1 1 1 1 1 1 1 1 1 1 1 1 1 1 1 1 1 1 1 1 2 2 2 2 2 2 2 2 2 2 2 2 2 2 2\n",
            " 2 2 2 2 2 2 2 2 2 2 2 2 2 2 2 2 2 2 2 2 2 2 2 2 2 2 2 2 2 2 2 2 2 2 2 2 2\n",
            " 2 2 2 2 2 2 2 2 2 2 2 2 2 2 2 2 2 2 2 3 3 3 3 3 3 3 3 3 3 3 3 3 3 3 3 3 3\n",
            " 3 3 3 3 3 3 3 3 3 3 3 3 3 3 3 3 3 3 3 3 3 3 3 3 3 3 3 3 3 3]\n"
          ]
        }
      ]
    },
    {
      "cell_type": "code",
      "source": [
        "#Training and Testing\n",
        "from sklearn.model_selection import train_test_split\n",
        "X_train, X_test, Y_train, Y_test = train_test_split(independent_X, dependent_Y, test_size = 0.2, random_state = 0)\n",
        "print(X_train.shape)\n",
        "print(X_test.shape)\n",
        "print(Y_train.shape)\n",
        "print(Y_test.shape)\n",
        "print(X_train)"
      ],
      "metadata": {
        "colab": {
          "base_uri": "https://localhost:8080/"
        },
        "id": "QxRsNzeswzxw",
        "outputId": "832ac3c1-192b-4c36-eecf-a20906f219fd"
      },
      "execution_count": 70,
      "outputs": [
        {
          "output_type": "stream",
          "name": "stdout",
          "text": [
            "(142, 13)\n",
            "(36, 13)\n",
            "(142,)\n",
            "(36,)\n",
            "[[1.369e+01 3.260e+00 2.540e+00 ... 9.600e-01 1.820e+00 6.800e+02]\n",
            " [1.269e+01 1.530e+00 2.260e+00 ... 9.600e-01 2.060e+00 4.950e+02]\n",
            " [1.162e+01 1.990e+00 2.280e+00 ... 1.160e+00 2.960e+00 3.450e+02]\n",
            " ...\n",
            " [1.242e+01 1.610e+00 2.190e+00 ... 1.060e+00 2.960e+00 3.450e+02]\n",
            " [1.390e+01 1.680e+00 2.120e+00 ... 9.100e-01 3.330e+00 9.850e+02]\n",
            " [1.416e+01 2.510e+00 2.480e+00 ... 6.200e-01 1.710e+00 6.600e+02]]\n"
          ]
        }
      ]
    },
    {
      "cell_type": "code",
      "source": [
        "# performing preprocessing part\n",
        "from sklearn.preprocessing import StandardScaler\n",
        "scaler  = StandardScaler()\n",
        "X_train_scaled = scaler.fit_transform(X_train)\n",
        "X_test_scaled  = scaler.transform(X_test)\n",
        "print('The mean of training data before scaling ')\n",
        "print(X_train.mean(axis = 0))\n",
        "print('The mean of training data after scaling ')\n",
        "print(X_train_scaled.mean(axis=0))\n",
        "\n",
        "\n",
        "print('The variance of training data before scaling ')\n",
        "print(X_train.var(axis = 0))\n",
        "print('The variance of training data after scaling ')\n",
        "print(X_train_scaled.var(axis=0))\n",
        "\n"
      ],
      "metadata": {
        "colab": {
          "base_uri": "https://localhost:8080/"
        },
        "id": "WRzAcLz7xgAd",
        "outputId": "43f1e6e6-44eb-445d-b1bb-4e6dd6fbd75a"
      },
      "execution_count": 41,
      "outputs": [
        {
          "output_type": "stream",
          "name": "stdout",
          "text": [
            "The mean of training data before scaling \n",
            "[1.29848592e+01 2.37260563e+00 2.36690141e+00 1.95549296e+01\n",
            " 1.00063380e+02 2.25866197e+00 1.94915493e+00 3.63521127e-01\n",
            " 1.60605634e+00 5.04521126e+00 9.53352113e-01 2.58626761e+00\n",
            " 7.42330986e+02]\n",
            "The mean of training data after scaling \n",
            "[ 7.03662480e-16 -1.28799553e-15  3.00932987e-15  2.66707626e-15\n",
            " -1.79043009e-16  6.91934772e-16  6.17659288e-16 -6.86461842e-16\n",
            "  8.63941156e-16 -2.17353522e-16 -3.59649712e-17  1.60591415e-15\n",
            " -9.46035113e-17]\n",
            "The variance of training data before scaling \n",
            "[6.46943290e-01 1.23526715e+00 7.22171593e-02 1.17676870e+01\n",
            " 2.01608659e+02 3.71531308e-01 9.45714779e-01 1.61946439e-02\n",
            " 3.47080222e-01 5.62646010e+00 5.24897211e-02 5.18534661e-01\n",
            " 9.16353904e+04]\n",
            "The variance of training data after scaling \n",
            "[1. 1. 1. 1. 1. 1. 1. 1. 1. 1. 1. 1. 1.]\n"
          ]
        }
      ]
    },
    {
      "cell_type": "code",
      "source": [
        "# Applying PCA function on training and testing set of X component\n",
        "from sklearn.decomposition import PCA\n",
        "pca = PCA(n_components = 2)\n",
        "X_train_pca = pca.fit_transform(X_train_scaled)\n",
        "X_test_pca = pca.transform(X_test_scaled)\n",
        "print('The shape of the training data before pca transformation is')\n",
        "print(X_train_scaled.shape)\n",
        "print('The shape of the training data after pca transformation is')\n",
        "print(X_train_pca.shape)\n",
        "print('The shape of the testing data before pca transformation is')\n",
        "print(X_test_scaled.shape)\n",
        "print('The shape of the testing data after pca transformation is')\n",
        "print(X_test_pca.shape)\n",
        "\n",
        "\n",
        "explained_variance = pca.explained_variance_ratio_\n",
        "print(explained_variance)\n",
        "print('the total percentage of variance of the data explained by the principal component is')\n",
        "print(100*explained_variance.sum())"
      ],
      "metadata": {
        "colab": {
          "base_uri": "https://localhost:8080/"
        },
        "id": "j0Tygmxu1YcB",
        "outputId": "f18e3d4f-0901-49f8-9e04-dd4c631898a1"
      },
      "execution_count": 100,
      "outputs": [
        {
          "output_type": "stream",
          "name": "stdout",
          "text": [
            "The shape of the training data before pca transformation is\n",
            "(142, 13)\n",
            "The shape of the training data after pca transformation is\n",
            "(142, 2)\n",
            "The shape of the testing data before pca transformation is\n",
            "(36, 13)\n",
            "The shape of the testing data after pca transformation is\n",
            "(36, 2)\n",
            "[0.36884109 0.19318394]\n",
            "the total percentage of variance of the data explained by the principal component is\n",
            "56.20250359227309\n"
          ]
        }
      ]
    },
    {
      "cell_type": "code",
      "source": [
        "#machine learning model considered is logistic regression\n",
        "#training the machine learning model using pca components of normalised training data\n",
        "from sklearn.linear_model import LogisticRegression\n",
        "classifier = LogisticRegression(random_state = 0)\n",
        "classifier.fit(X_train_pca, Y_train)"
      ],
      "metadata": {
        "colab": {
          "base_uri": "https://localhost:8080/",
          "height": 74
        },
        "id": "WbewMTTx5Jne",
        "outputId": "69e2acdb-3b08-4181-8aa3-6bf260a90cd8"
      },
      "execution_count": 102,
      "outputs": [
        {
          "output_type": "execute_result",
          "data": {
            "text/plain": [
              "LogisticRegression(random_state=0)"
            ],
            "text/html": [
              "<style>#sk-container-id-9 {color: black;background-color: white;}#sk-container-id-9 pre{padding: 0;}#sk-container-id-9 div.sk-toggleable {background-color: white;}#sk-container-id-9 label.sk-toggleable__label {cursor: pointer;display: block;width: 100%;margin-bottom: 0;padding: 0.3em;box-sizing: border-box;text-align: center;}#sk-container-id-9 label.sk-toggleable__label-arrow:before {content: \"▸\";float: left;margin-right: 0.25em;color: #696969;}#sk-container-id-9 label.sk-toggleable__label-arrow:hover:before {color: black;}#sk-container-id-9 div.sk-estimator:hover label.sk-toggleable__label-arrow:before {color: black;}#sk-container-id-9 div.sk-toggleable__content {max-height: 0;max-width: 0;overflow: hidden;text-align: left;background-color: #f0f8ff;}#sk-container-id-9 div.sk-toggleable__content pre {margin: 0.2em;color: black;border-radius: 0.25em;background-color: #f0f8ff;}#sk-container-id-9 input.sk-toggleable__control:checked~div.sk-toggleable__content {max-height: 200px;max-width: 100%;overflow: auto;}#sk-container-id-9 input.sk-toggleable__control:checked~label.sk-toggleable__label-arrow:before {content: \"▾\";}#sk-container-id-9 div.sk-estimator input.sk-toggleable__control:checked~label.sk-toggleable__label {background-color: #d4ebff;}#sk-container-id-9 div.sk-label input.sk-toggleable__control:checked~label.sk-toggleable__label {background-color: #d4ebff;}#sk-container-id-9 input.sk-hidden--visually {border: 0;clip: rect(1px 1px 1px 1px);clip: rect(1px, 1px, 1px, 1px);height: 1px;margin: -1px;overflow: hidden;padding: 0;position: absolute;width: 1px;}#sk-container-id-9 div.sk-estimator {font-family: monospace;background-color: #f0f8ff;border: 1px dotted black;border-radius: 0.25em;box-sizing: border-box;margin-bottom: 0.5em;}#sk-container-id-9 div.sk-estimator:hover {background-color: #d4ebff;}#sk-container-id-9 div.sk-parallel-item::after {content: \"\";width: 100%;border-bottom: 1px solid gray;flex-grow: 1;}#sk-container-id-9 div.sk-label:hover label.sk-toggleable__label {background-color: #d4ebff;}#sk-container-id-9 div.sk-serial::before {content: \"\";position: absolute;border-left: 1px solid gray;box-sizing: border-box;top: 0;bottom: 0;left: 50%;z-index: 0;}#sk-container-id-9 div.sk-serial {display: flex;flex-direction: column;align-items: center;background-color: white;padding-right: 0.2em;padding-left: 0.2em;position: relative;}#sk-container-id-9 div.sk-item {position: relative;z-index: 1;}#sk-container-id-9 div.sk-parallel {display: flex;align-items: stretch;justify-content: center;background-color: white;position: relative;}#sk-container-id-9 div.sk-item::before, #sk-container-id-9 div.sk-parallel-item::before {content: \"\";position: absolute;border-left: 1px solid gray;box-sizing: border-box;top: 0;bottom: 0;left: 50%;z-index: -1;}#sk-container-id-9 div.sk-parallel-item {display: flex;flex-direction: column;z-index: 1;position: relative;background-color: white;}#sk-container-id-9 div.sk-parallel-item:first-child::after {align-self: flex-end;width: 50%;}#sk-container-id-9 div.sk-parallel-item:last-child::after {align-self: flex-start;width: 50%;}#sk-container-id-9 div.sk-parallel-item:only-child::after {width: 0;}#sk-container-id-9 div.sk-dashed-wrapped {border: 1px dashed gray;margin: 0 0.4em 0.5em 0.4em;box-sizing: border-box;padding-bottom: 0.4em;background-color: white;}#sk-container-id-9 div.sk-label label {font-family: monospace;font-weight: bold;display: inline-block;line-height: 1.2em;}#sk-container-id-9 div.sk-label-container {text-align: center;}#sk-container-id-9 div.sk-container {/* jupyter's `normalize.less` sets `[hidden] { display: none; }` but bootstrap.min.css set `[hidden] { display: none !important; }` so we also need the `!important` here to be able to override the default hidden behavior on the sphinx rendered scikit-learn.org. See: https://github.com/scikit-learn/scikit-learn/issues/21755 */display: inline-block !important;position: relative;}#sk-container-id-9 div.sk-text-repr-fallback {display: none;}</style><div id=\"sk-container-id-9\" class=\"sk-top-container\"><div class=\"sk-text-repr-fallback\"><pre>LogisticRegression(random_state=0)</pre><b>In a Jupyter environment, please rerun this cell to show the HTML representation or trust the notebook. <br />On GitHub, the HTML representation is unable to render, please try loading this page with nbviewer.org.</b></div><div class=\"sk-container\" hidden><div class=\"sk-item\"><div class=\"sk-estimator sk-toggleable\"><input class=\"sk-toggleable__control sk-hidden--visually\" id=\"sk-estimator-id-9\" type=\"checkbox\" checked><label for=\"sk-estimator-id-9\" class=\"sk-toggleable__label sk-toggleable__label-arrow\">LogisticRegression</label><div class=\"sk-toggleable__content\"><pre>LogisticRegression(random_state=0)</pre></div></div></div></div></div>"
            ]
          },
          "metadata": {},
          "execution_count": 102
        }
      ]
    },
    {
      "cell_type": "code",
      "source": [
        "# Predicting the results for pca components of the test data using trained logistic regression\n",
        "Y_predicted = classifier.predict(X_test_pca)\n",
        "print('Predicted Results using Logistic Regression')\n",
        "print(Y_predicted)\n",
        "print(Y_predicted.shape)\n",
        "print('Expected Results for Logistic Regression')\n",
        "print(Y_test)"
      ],
      "metadata": {
        "colab": {
          "base_uri": "https://localhost:8080/"
        },
        "id": "l0GiWock6RAk",
        "outputId": "c7626337-c50f-4295-a2a4-daf0fb864d33"
      },
      "execution_count": 103,
      "outputs": [
        {
          "output_type": "stream",
          "name": "stdout",
          "text": [
            "Predicted Results using Logistic Regression\n",
            "[1 3 2 1 2 1 1 3 2 2 3 3 1 2 3 2 1 1 2 1 2 1 1 2 2 2 2 2 2 3 1 1 2 1 1 1]\n",
            "(36,)\n",
            "Expected Results for Logistic Regression\n",
            "[1 3 2 1 2 2 1 3 2 2 3 3 1 2 3 2 1 1 2 1 2 1 1 2 2 2 2 2 2 3 1 1 2 1 1 1]\n"
          ]
        }
      ]
    },
    {
      "cell_type": "code",
      "source": [
        "# Confusion matrix for measuring the performance of the classifier\n",
        "from sklearn.metrics import confusion_matrix\n",
        "cm = confusion_matrix(Y_test, Y_predicted)\n",
        "print(cm)\n",
        "labels=['1','2','3']\n",
        "df_cm = pd.DataFrame(cm, labels, labels)\n",
        "# fancy visualization of confusion matrix\n",
        "import seaborn as sn\n",
        "ax = sn.heatmap(df_cm, annot=True, annot_kws={\"size\": 16}, square=True, cbar=False, fmt='g')\n",
        "ax.set_ylim(0, 3) #this manually corrects the cutoff issue in sns.heatmap found in matplotlib ver 3.1.1\n",
        "plt.xlabel(\"Predicted\")\n",
        "plt.ylabel(\"Expected\")\n",
        "ax.invert_yaxis() #optional\n",
        "plt.show()\n"
      ],
      "metadata": {
        "colab": {
          "base_uri": "https://localhost:8080/",
          "height": 500
        },
        "id": "yywHfx257VBM",
        "outputId": "abd4871a-5e07-4db7-b27a-0e9cadb520d4"
      },
      "execution_count": 99,
      "outputs": [
        {
          "output_type": "stream",
          "name": "stdout",
          "text": [
            "[[14  0  0]\n",
            " [ 1 15  0]\n",
            " [ 0  0  6]]\n"
          ]
        },
        {
          "output_type": "display_data",
          "data": {
            "text/plain": [
              "<Figure size 640x480 with 1 Axes>"
            ],
            "image/png": "[encoded data removed]"
          },
          "metadata": {}
        }
      ]
    },
    {
      "cell_type": "code",
      "source": [
        "# Lets us visually see what has happened.\n",
        "# There were 13 features in the original data set and the problem at hand was to predict the class based on\n",
        "# the 13 features\n",
        "# Lets us pick first two columns as features and check the target labels\n",
        "#pick rows 1 and row 2 indexed by 0 and 1 respectively\n",
        "X_trained_scaled_two_cols = X_train_scaled[:, [0,1]]\n",
        "#print(X_trained_scaled_two_cols)\n",
        "from matplotlib.colors import ListedColormap\n",
        "#print(X_trained_scaled_two_cols)\n",
        "X_set, y_set = X_trained_scaled_two_cols, Y_train\n",
        "X1, X2 = np.meshgrid(np.arange(start = X_set[:, 0].min() - 1,\n",
        "                     stop = X_set[:, 0].max() + 1, step = 0.01),\n",
        "                     np.arange(start = X_set[:, 1].min() - 1,\n",
        "                     stop = X_set[:, 1].max() + 1, step = 0.01))\n",
        "#print(X1)\n",
        "plt.contourf(X1, X2, classifier.predict(np.array([X1.ravel(),\n",
        "             X2.ravel()]).T).reshape(X1.shape), alpha = 0.75,\n",
        "             cmap = ListedColormap(('yellow', 'white', 'aquamarine')))\n",
        "\n",
        "plt.xlim(X1.min(), X1.max())\n",
        "plt.ylim(X2.min(), X2.max())\n",
        "for i, j in enumerate(np.unique(y_set)):\n",
        "    plt.scatter(X_set[y_set == j, 0], X_set[y_set == j, 1],\n",
        "                c = ListedColormap(('red', 'green', 'blue'))(i), label = j)\n",
        "\n",
        "plt.title('Logistic Regression on Training dataset comprising of dependent variables and first two scaled features of original dataset')\n",
        "plt.xlabel('First Scaled Feature of Original Dataset') # for Xlabel\n",
        "plt.ylabel('Second Scaled Feature of Original Dataset') # for Ylabel\n",
        "plt.legend() # to show legend\n",
        "# show scatter plot\n",
        "plt.show()"
      ],
      "metadata": {
        "colab": {
          "base_uri": "https://localhost:8080/",
          "height": 636
        },
        "id": "rhEftt8A-haj",
        "outputId": "f193ffc0-aa99-47e4-ec3f-f00147fd151e"
      },
      "execution_count": 135,
      "outputs": [
        {
          "output_type": "stream",
          "name": "stdout",
          "text": [
            "[[-3.4304258 -3.4204258 -3.4104258 ...  3.1695742  3.1795742  3.1895742]\n",
            " [-3.4304258 -3.4204258 -3.4104258 ...  3.1695742  3.1795742  3.1895742]\n",
            " [-3.4304258 -3.4204258 -3.4104258 ...  3.1695742  3.1795742  3.1895742]\n",
            " ...\n",
            " [-3.4304258 -3.4204258 -3.4104258 ...  3.1695742  3.1795742  3.1895742]\n",
            " [-3.4304258 -3.4204258 -3.4104258 ...  3.1695742  3.1795742  3.1895742]\n",
            " [-3.4304258 -3.4204258 -3.4104258 ...  3.1695742  3.1795742  3.1895742]]\n"
          ]
        },
        {
          "output_type": "stream",
          "name": "stderr",
          "text": [
            "<ipython-input-135-a64f26c8d09c>:24: UserWarning: *c* argument looks like a single numeric RGB or RGBA sequence, which should be avoided as value-mapping will have precedence in case its length matches with *x* & *y*.  Please use the *color* keyword-argument or provide a 2D array with a single row if you intend to specify the same RGB or RGBA value for all points.\n",
            "  plt.scatter(X_set[y_set == j, 0], X_set[y_set == j, 1],\n"
          ]
        },
        {
          "output_type": "display_data",
          "data": {
            "text/plain": [
              "<Figure size 640x480 with 1 Axes>"
            ],
            "image/png": "[encoded data removed]"
          },
          "metadata": {}
        }
      ]
    },
    {
      "cell_type": "code",
      "source": [
        "# Lets us visually see what has happened.\n",
        "# There were 13 features in the original data set and the problem at hand was to predict the class based on\n",
        "# the 13 features\n",
        "# Lets us pick first two principal components as features and check the target labels\n",
        "from matplotlib.colors import ListedColormap\n",
        "#print(X_trained_scaled_two_cols)\n",
        "X_set, y_set = X_train_pca[:, [0,1]], Y_train\n",
        "X1, X2 = np.meshgrid(np.arange(start = X_set[:, 0].min() - 1,\n",
        "                     stop = X_set[:, 0].max() + 1, step = 0.01),\n",
        "                     np.arange(start = X_set[:, 1].min() - 1,\n",
        "                     stop = X_set[:, 1].max() + 1, step = 0.01))\n",
        "#print(X1)\n",
        "plt.contourf(X1, X2, classifier.predict(np.array([X1.ravel(),\n",
        "             X2.ravel()]).T).reshape(X1.shape), alpha = 0.75,\n",
        "             cmap = ListedColormap(('yellow', 'white', 'aquamarine')))\n",
        "\n",
        "plt.xlim(X1.min(), X1.max())\n",
        "plt.ylim(X2.min(), X2.max())\n",
        "for i, j in enumerate(np.unique(y_set)):\n",
        "    plt.scatter(X_set[y_set == j, 0], X_set[y_set == j, 1],\n",
        "                c = ListedColormap(('red', 'green', 'blue'))(i), label = j)\n",
        "\n",
        "plt.title('Logistic Regression on Training dataset comprising of dependent variables and first two scaled features of original dataset')\n",
        "plt.xlabel('First Scaled Feature of Original Dataset') # for Xlabel\n",
        "plt.ylabel('Second Scaled Feature of Original Dataset') # for Ylabel\n",
        "plt.legend() # to show legend\n",
        "# show scatter plot\n",
        "plt.show()"
      ],
      "metadata": {
        "id": "OydLLH1JLyV3"
      },
      "execution_count": null,
      "outputs": []
    },
    {
      "cell_type": "markdown",
      "source": [
        "CODE CREATED BY ARJUN ANIL KUMAR\n",
        "11 OCTOBER 2023 TIME -9.19 AM\n",
        "\n",
        "code 2 : Singular Value Decomposition\n",
        "\n",
        "Lets take a 3*2 matrix with 3 rows and 2 columns\n",
        "the first row elements are 1,2\n",
        "the second row elements are 3,4\n",
        "the third row elements are 5,6\n",
        "\n",
        "$A = U.D.V^T$\n",
        "\n",
        "SVD means decomposing a rectangular matrix A ($m*n$) into three matrices U ($m*m$) , diagonal matrix or singular value matrix D ($m*n$) and $V^T$ ($n*n$)\n",
        "\n",
        "\n",
        "\n"
      ],
      "metadata": {
        "id": "uJEmpWFQPYH8"
      }
    },
    {
      "cell_type": "code",
      "source": [
        "from numpy import array\n",
        "from scipy.linalg import svd\n",
        "# define a matrix\n",
        "A = array([[1, 2], [3, 4], [5, 6]])\n",
        "print(A)\n",
        "print('The dimension of dataset D is',A.shape)\n",
        "\n",
        "# SVD\n",
        "U, D, VT = svd(A)\n",
        "print('The left singular matrix U is')\n",
        "print(U)\n",
        "print('The dimension of left singular matrix U is',U.shape)\n",
        "print('The singular values are')\n",
        "print(D)\n",
        "print('The dimension of diagonal matrix D is',D.shape)\n",
        "print('The right singular matrix V^T is')\n",
        "print(VT)\n",
        "print('The dimension of right singular matrix V^T  is',VT.shape)\n"
      ],
      "metadata": {
        "colab": {
          "base_uri": "https://localhost:8080/"
        },
        "id": "xUkeIsuQLtls",
        "outputId": "fd8cf438-e64f-45e5-868d-22ac0d819012"
      },
      "execution_count": 150,
      "outputs": [
        {
          "output_type": "stream",
          "name": "stdout",
          "text": [
            "[[1 2]\n",
            " [3 4]\n",
            " [5 6]]\n",
            "The dimension of dataset D is (3, 2)\n",
            "The left singular matrix U is\n",
            "[[-0.2298477   0.88346102  0.40824829]\n",
            " [-0.52474482  0.24078249 -0.81649658]\n",
            " [-0.81964194 -0.40189603  0.40824829]]\n",
            "The dimension of left singular matrix U is (3, 3)\n",
            "The diagonal matrix is\n",
            "[9.52551809 0.51430058]\n",
            "The dimension of diagonal matrix D is (2,)\n",
            "The right singular matrix V^T is\n",
            "[[-0.61962948 -0.78489445]\n",
            " [-0.78489445  0.61962948]]\n",
            "The dimension of right singular matrix V^T  is (2, 2)\n"
          ]
        }
      ]
    },
    {
      "cell_type": "code",
      "source": [
        "# Reconstruct SVD\n",
        "from numpy import zeros\n",
        "from numpy import diag\n",
        "\n",
        "# create m x n Sigma matrix\n",
        "\n",
        "D_matrix = zeros((A.shape[0], A.shape[1]))\n",
        "# populate Sigma with n x n diagonal matrix\n",
        "D_matrix[:A.shape[1], :A.shape[1]] = diag(s)\n",
        "print(D_matrix)\n",
        "print('Shape of D_matrix is')\n",
        "print(D_matrix.shape)\n",
        "# reconstruct matrix\n",
        "B = U.dot(D_matrix.dot(VT))\n",
        "print(B)"
      ],
      "metadata": {
        "colab": {
          "base_uri": "https://localhost:8080/"
        },
        "id": "s1nJ138yVBu_",
        "outputId": "1133e249-68af-4ce7-d1d8-8a352b948d36"
      },
      "execution_count": 156,
      "outputs": [
        {
          "output_type": "stream",
          "name": "stdout",
          "text": [
            "[[9.52551809 0.        ]\n",
            " [0.         0.51430058]\n",
            " [0.         0.        ]]\n",
            "Shape of D_matrix is\n",
            "(3, 2)\n",
            "[[1. 2.]\n",
            " [3. 4.]\n",
            " [5. 6.]]\n"
          ]
        }
      ]
    },
    {
      "cell_type": "code",
      "source": [
        "# Dimensionality Reduction and SVD\n",
        "from numpy import array\n",
        "from numpy import diag\n",
        "from numpy import zeros\n",
        "from scipy.linalg import svd\n",
        "# define a matrix\n",
        "A = array([[1,2,3,4,5,6,7,8,9,10],\n",
        "           [11,12,13,14,15,16,17,18,19,20],\n",
        "           [21,22,23,24,25,26,27,28,29,30]])\n",
        "print(A)\n",
        "print('The shape of the matrix is',A.shape)\n",
        "print('The number of rows of the matrix is',A.shape[0])\n",
        "print('The number of columns of the matrix is',A.shape[1])\n",
        "\n",
        "# Singular-value decomposition\n",
        "U, D, VT = svd(A)\n",
        "print('The shape of U matrix is', U.shape)\n",
        "print('The shape of VT matrix is',VT.shape)\n",
        "# create m x n Sigma matrix\n",
        "D_matrix = zeros((A.shape[0], A.shape[1]))\n",
        "# populate Sigma with n x n diagonal matrix\n",
        "D_matrix[:A.shape[0], :A.shape[0]] = diag(D)\n",
        "\n",
        "print('The D matrix is given as')\n",
        "print(np.around(D_matrix))\n",
        "print('The number of rows of D matrix is',D_matrix.shape[0])\n",
        "print('The number of columns of D matrix is',D_matrix.shape[1])\n",
        "\n",
        "# select only 2\n",
        "n_elements = 2\n",
        "D_matrix_selected = D_matrix[:, :n_elements]\n",
        "print('The selected D matrix is')\n",
        "print('The dimension of selected D matrix is',D_matrix_selected.shape)\n",
        "print(np.around(D_matrix_selected))\n",
        "print('The number of rows of selected D matrix is',D_matrix_selected.shape[0])\n",
        "print('The number of columns of selected D matrix is',D_matrix_selected.shape[1])\n",
        "\n",
        "VT_selected = VT[:n_elements, :]\n",
        "print('The shape of VT is',VT.shape)\n",
        "print('The shape of VT selected is',VT_selected.shape)\n",
        "\n",
        "# reconstruction using 2 elements\n",
        "A_reconstructed = U.dot(D_matrix_selected.dot(VT_selected))\n",
        "print(A_reconstructed)\n",
        "\n",
        "\n"
      ],
      "metadata": {
        "colab": {
          "base_uri": "https://localhost:8080/"
        },
        "id": "1t87U7gBWw_N",
        "outputId": "6270804d-0bd4-4e84-df51-eb2906b64673"
      },
      "execution_count": 176,
      "outputs": [
        {
          "output_type": "stream",
          "name": "stdout",
          "text": [
            "[[ 1  2  3  4  5  6  7  8  9 10]\n",
            " [11 12 13 14 15 16 17 18 19 20]\n",
            " [21 22 23 24 25 26 27 28 29 30]]\n",
            "The shape of the matrix is (3, 10)\n",
            "The number of rows of the matrix is 3\n",
            "The number of columns of the matrix is 10\n",
            "The shape of U matrix is (3, 3)\n",
            "The shape of VT matrix is (10, 10)\n",
            "The D matrix is given as\n",
            "[[97.  0.  0.  0.  0.  0.  0.  0.  0.  0.]\n",
            " [ 0.  7.  0.  0.  0.  0.  0.  0.  0.  0.]\n",
            " [ 0.  0.  0.  0.  0.  0.  0.  0.  0.  0.]]\n",
            "The number of rows of D matrix is 3\n",
            "The number of columns of D matrix is 10\n",
            "The selected D matrix is\n",
            "The dimension of selected D matrix is (3, 2)\n",
            "[[97.  0.]\n",
            " [ 0.  7.]\n",
            " [ 0.  0.]]\n",
            "The number of rows of selected D matrix is 3\n",
            "The number of columns of selected D matrix is 2\n",
            "The shape of VT is (10, 10)\n",
            "The shape of VT selected is (2, 10)\n",
            "[[ 1.  2.  3.  4.  5.  6.  7.  8.  9. 10.]\n",
            " [11. 12. 13. 14. 15. 16. 17. 18. 19. 20.]\n",
            " [21. 22. 23. 24. 25. 26. 27. 28. 29. 30.]]\n"
          ]
        }
      ]
    }
  ]
}