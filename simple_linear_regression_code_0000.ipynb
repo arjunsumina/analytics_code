{
  "nbformat": 4,
  "nbformat_minor": 0,
  "metadata": {
    "colab": {
      "provenance": [],
      "authorship_tag": "ABX9TyMd9sHMVsYSOWtGsnK1w/qV",
      "include_colab_link": true
    },
    "kernelspec": {
      "name": "python3",
      "display_name": "Python 3"
    },
    "language_info": {
      "name": "python"
    }
  },
  "cells": [
    {
      "cell_type": "markdown",
      "metadata": {
        "id": "view-in-github",
        "colab_type": "text"
      },
      "source": [
        "<a href=\"https://colab.research.google.com/github/arjunsumina/analytics_code/blob/main/simple_linear_regression_code_0000.ipynb\" target=\"_parent\"><img src=\"https://colab.research.google.com/assets/colab-badge.svg\" alt=\"Open In Colab\"/></a>"
      ]
    },
    {
      "cell_type": "markdown",
      "source": [
        "code owner - Arjun Anil Kumar"
      ],
      "metadata": {
        "id": "RlZl7-7F3ogc"
      }
    },
    {
      "cell_type": "code",
      "execution_count": 1,
      "metadata": {
        "id": "c7YH-Kar2-X6"
      },
      "outputs": [],
      "source": [
        "%matplotlib inline\n",
        "import matplotlib.pyplot as plt\n",
        "import seaborn as sns; sns.set()\n",
        "import numpy as np"
      ]
    },
    {
      "cell_type": "markdown",
      "source": [
        "The regression line is a straight line of the form\n",
        "y = ax+b, where a is the slope and b is the intercept\n"
      ],
      "metadata": {
        "id": "zEa0O1VJ3VtU"
      }
    },
    {
      "cell_type": "code",
      "source": [
        "rng = np.random.RandomState(1)\n",
        "x = 10 * rng.rand(50)\n",
        "y = 3 * x - 5 + rng.randn(50)\n",
        "plt.scatter(x, y);"
      ],
      "metadata": {
        "colab": {
          "base_uri": "https://localhost:8080/",
          "height": 268
        },
        "id": "ZX5dW8Zz3Swy",
        "outputId": "fc9d109d-39c0-465d-befa-221167907623"
      },
      "execution_count": 3,
      "outputs": [
        {
          "output_type": "display_data",
          "data": {
            "text/plain": [
              "<Figure size 432x288 with 1 Axes>"
            ],
            "image/png": "[encoded data removed]"
          },
          "metadata": {}
        }
      ]
    },
    {
      "cell_type": "code",
      "source": [
        "from sklearn.linear_model import LinearRegression\n",
        "model = LinearRegression(fit_intercept=True)\n",
        "model.fit(x[:, np.newaxis], y)\n",
        "xfit = np.linspace(0, 10, 1000)\n",
        "yfit = model.predict(xfit[:, np.newaxis])\n",
        "plt.scatter(x, y)\n",
        "plt.plot(xfit, yfit);\n",
        "y_pred = model.predict(x[:, np.newaxis])"
      ],
      "metadata": {
        "colab": {
          "base_uri": "https://localhost:8080/",
          "height": 268
        },
        "id": "3G50hnsx3lWg",
        "outputId": "d0700491-6232-438e-a0a8-2aa4be184afe"
      },
      "execution_count": 14,
      "outputs": [
        {
          "output_type": "display_data",
          "data": {
            "text/plain": [
              "<Figure size 432x288 with 1 Axes>"
            ],
            "image/png": "[encoded data removed]"
          },
          "metadata": {}
        }
      ]
    },
    {
      "cell_type": "code",
      "source": [
        "len(y_pred)"
      ],
      "metadata": {
        "colab": {
          "base_uri": "https://localhost:8080/"
        },
        "id": "-UDEp5pZ8EeK",
        "outputId": "54a74ca0-e321-4da0-98b8-55027c669be0"
      },
      "execution_count": 15,
      "outputs": [
        {
          "output_type": "execute_result",
          "data": {
            "text/plain": [
              "50"
            ]
          },
          "metadata": {},
          "execution_count": 15
        }
      ]
    },
    {
      "cell_type": "code",
      "source": [
        "len(y)"
      ],
      "metadata": {
        "colab": {
          "base_uri": "https://localhost:8080/"
        },
        "id": "wkIHJ1i68Rcf",
        "outputId": "e6807dd8-4d5c-4f1f-a98c-0054357f7b34"
      },
      "execution_count": 12,
      "outputs": [
        {
          "output_type": "execute_result",
          "data": {
            "text/plain": [
              "50"
            ]
          },
          "metadata": {},
          "execution_count": 12
        }
      ]
    },
    {
      "cell_type": "code",
      "source": [
        "error = y - y_pred"
      ],
      "metadata": {
        "id": "mPmDiN8B8u40"
      },
      "execution_count": 16,
      "outputs": []
    },
    {
      "cell_type": "code",
      "source": [
        "import seaborn as sns\n",
        "import matplotlib.pyplot as plt\n",
        "sns.distplot(error, hist=True)\n",
        "plt.xlabel('x') \n",
        "plt.ylabel('y') \n",
        "plt.title(\"Density of the error\")\n",
        "plt.show()"
      ],
      "metadata": {
        "colab": {
          "base_uri": "https://localhost:8080/",
          "height": 357
        },
        "id": "QZ8YmHuZ82uD",
        "outputId": "d46f7427-1067-4d84-f7d2-64e9ffca14bb"
      },
      "execution_count": 18,
      "outputs": [
        {
          "output_type": "stream",
          "name": "stderr",
          "text": [
            "/usr/local/lib/python3.8/dist-packages/seaborn/distributions.py:2619: FutureWarning: `distplot` is a deprecated function and will be removed in a future version. Please adapt your code to use either `displot` (a figure-level function with similar flexibility) or `histplot` (an axes-level function for histograms).\n",
            "  warnings.warn(msg, FutureWarning)\n"
          ]
        },
        {
          "output_type": "display_data",
          "data": {
            "text/plain": [
              "<Figure size 432x288 with 1 Axes>"
            ],
            "image/png": "[encoded data removed]"
          },
          "metadata": {}
        }
      ]
    },
    {
      "cell_type": "code",
      "source": [
        "# plotting density plot for carat using distplot()\n",
        "sns.distplot(a=df.carat, hist=False)\n",
        "# visualizing plot using matplotlib.pyplot library\n",
        "plt.show()"
      ],
      "metadata": {
        "id": "ftiFx1lU7l88"
      },
      "execution_count": null,
      "outputs": []
    },
    {
      "cell_type": "markdown",
      "source": [
        "estimated coefficient and slope of the model"
      ],
      "metadata": {
        "id": "NjDF7aP3314m"
      }
    },
    {
      "cell_type": "code",
      "source": [
        "print(\"Model slope:    \", model.coef_[0])\n",
        "print(\"Model intercept:\", model.intercept_)"
      ],
      "metadata": {
        "colab": {
          "base_uri": "https://localhost:8080/"
        },
        "id": "tjw0Vyqq3zvN",
        "outputId": "12563bbc-34a3-41c9-cf49-a5297b968b6c"
      },
      "execution_count": 5,
      "outputs": [
        {
          "output_type": "stream",
          "name": "stdout",
          "text": [
            "Model slope:     3.0272088103606944\n",
            "Model intercept: -4.998577085553199\n"
          ]
        }
      ]
    },
    {
      "cell_type": "code",
      "source": [
        "rng = np.random.RandomState(1)\n",
        "X = 10 * rng.rand(100, 3)\n",
        "y = 0.5 + np.dot(X, [1.5, -2., 1.])\n",
        "\n",
        "model.fit(X, y)\n",
        "print(model.intercept_)\n",
        "print(model.coef_)"
      ],
      "metadata": {
        "colab": {
          "base_uri": "https://localhost:8080/"
        },
        "id": "cbuJJ_ZF97Le",
        "outputId": "2b044eb9-e115-4e09-870b-996019ad64f8"
      },
      "execution_count": 19,
      "outputs": [
        {
          "output_type": "stream",
          "name": "stdout",
          "text": [
            "0.5000000000000033\n",
            "[ 1.5 -2.   1. ]\n"
          ]
        }
      ]
    },
    {
      "cell_type": "code",
      "source": [
        "print(y)"
      ],
      "metadata": {
        "colab": {
          "base_uri": "https://localhost:8080/"
        },
        "id": "3Q9Bf8Kv-E3E",
        "outputId": "31d17a20-a2c6-4fa3-a38d-0d4546f42bbc"
      },
      "execution_count": 20,
      "outputs": [
        {
          "output_type": "stream",
          "name": "stdout",
          "text": [
            "[ -7.65001605   3.02325672   0.35036337   7.05055573 -13.72168905\n",
            "   7.79781489   6.65121998  15.67866623  -3.39585387   6.47063839\n",
            "   3.13194531  -2.18490669  -5.71211675  -0.54340051 -10.04666662\n",
            "  -8.01736569   2.40972822   9.10543727  12.54752254  -2.08759851\n",
            "   0.69789825  11.07258392   9.605085    -7.39496566  -9.5819122\n",
            " -12.09220005   6.07528275  -1.67478215  -9.08789409   7.92072795\n",
            " -12.26947425   3.38337796   2.60580635   8.49485669  15.7290878\n",
            "  18.82834922  -7.35959816  -9.1266914   -6.08049658   1.35758248\n",
            "   0.55704715  -7.61908232  -6.80655502   2.66852724  16.54883423\n",
            "  -8.26888336   4.0730973    2.56190915   1.27548898   0.12605487\n",
            " -12.08490779   5.94114217   1.50446356  13.34317398  -5.21236827\n",
            "   4.24165127   1.39153728   7.53574966   0.5498636    6.84793866\n",
            "  13.26983794   4.33929089  -4.14100029   9.76579505   5.16058738\n",
            "  16.54417044   0.27311013  -3.04666708   2.6734072   -0.59307536\n",
            " -11.10255971   4.74998129  -9.86537743   0.52199534 -10.27749464\n",
            "  11.74964848  -0.33802704  -4.41968107  -3.97307056   8.80229943\n",
            "  -6.85052997  -6.37811988  -0.30454615  24.03857766  -7.27980504\n",
            "   7.71921901   0.54719505   5.25363626  13.72145942   3.7291675\n",
            "   6.39370851  -5.74432358  -1.62200946   3.90303585   7.56029896\n",
            "  10.79078705  -0.38540647   5.34319763   8.05538844 -16.1458226 ]\n"
          ]
        }
      ]
    },
    {
      "cell_type": "code",
      "source": [
        "print(X)"
      ],
      "metadata": {
        "colab": {
          "base_uri": "https://localhost:8080/"
        },
        "id": "qIrmwIPk-KA3",
        "outputId": "26ff6c6e-bcdc-4793-fc8d-4b6bfb334ea6"
      },
      "execution_count": 21,
      "outputs": [
        {
          "output_type": "stream",
          "name": "stdout",
          "text": [
            "[[4.17022005e+00 7.20324493e+00 1.14374817e-03]\n",
            " [3.02332573e+00 1.46755891e+00 9.23385948e-01]\n",
            " [1.86260211e+00 3.45560727e+00 3.96767474e+00]\n",
            " [5.38816734e+00 4.19194514e+00 6.85219500e+00]\n",
            " [2.04452250e+00 8.78117436e+00 2.73875932e-01]\n",
            " [6.70467510e+00 4.17304802e+00 5.58689828e+00]\n",
            " [1.40386939e+00 1.98101489e+00 8.00744569e+00]\n",
            " [9.68261576e+00 3.13424178e+00 6.92322616e+00]\n",
            " [8.76389152e+00 8.94606664e+00 8.50442114e-01]\n",
            " [3.90547832e-01 1.69830420e+00 8.78142503e+00]\n",
            " [9.83468338e-01 4.21107625e+00 9.57889530e+00]\n",
            " [5.33165285e+00 6.91877114e+00 3.15515631e+00]\n",
            " [6.86500928e+00 8.34625672e+00 1.82882773e-01]\n",
            " [7.50144315e+00 9.88861089e+00 7.48165654e+00]\n",
            " [2.80443992e+00 7.89279328e+00 1.03226007e+00]\n",
            " [4.47893526e+00 9.08595503e+00 2.93614148e+00]\n",
            " [2.87775339e+00 1.30028572e+00 1.93669579e-01]\n",
            " [6.78835533e+00 2.11628116e+00 2.65546659e+00]\n",
            " [4.91573159e+00 5.33625451e-01 5.74117605e+00]\n",
            " [1.46728575e+00 5.89305537e+00 6.99758360e+00]\n",
            " [1.02334429e+00 4.14055988e+00 6.94400158e+00]\n",
            " [4.14179270e+00 4.99534589e-01 5.35896406e+00]\n",
            " [6.63794645e+00 5.14889112e+00 9.44594756e+00]\n",
            " [5.86555041e+00 9.03401915e+00 1.37474704e+00]\n",
            " [1.39276347e+00 8.07391289e+00 3.97676837e+00]\n",
            " [1.65354197e+00 9.27508580e+00 3.47765860e+00]\n",
            " [7.50812103e+00 7.25997985e+00 8.83306091e+00]\n",
            " [6.23672207e+00 7.50942434e+00 3.48898342e+00]\n",
            " [2.69927892e+00 8.95886218e+00 4.28091190e+00]\n",
            " [9.64840047e+00 6.63441498e+00 6.21695720e+00]\n",
            " [1.14745973e+00 9.49489259e+00 4.49912133e+00]\n",
            " [5.78389614e+00 4.08136803e+00 2.37026980e+00]\n",
            " [9.03379521e+00 5.73679487e+00 2.87032703e-02]\n",
            " [6.17144914e+00 3.26644902e+00 5.27058102e+00]\n",
            " [8.85942099e+00 3.57269760e+00 9.08535151e+00]\n",
            " [6.23360116e+00 1.58212428e-01 9.29437234e+00]\n",
            " [6.90896918e+00 9.97322850e+00 1.72340508e+00]\n",
            " [1.37135750e+00 9.32595463e+00 6.96818161e+00]\n",
            " [6.60001727e-01 7.55463053e+00 7.53876188e+00]\n",
            " [9.23024536e+00 7.11524759e+00 1.24270962e+00]\n",
            " [1.98801338e-01 2.62109869e-01 2.83064880e-01]\n",
            " [2.46211068e+00 8.60027949e+00 5.38831064e+00]\n",
            " [5.52821979e+00 8.42030892e+00 1.24173315e+00]\n",
            " [2.79183679e+00 5.85759271e+00 9.69595748e+00]\n",
            " [5.61030219e+00 1.86472894e-01 8.00632673e+00]\n",
            " [2.32974274e+00 8.07105196e+00 3.87860644e+00]\n",
            " [8.63541855e+00 7.47121643e+00 5.56240234e+00]\n",
            " [1.36455226e+00 5.99176895e-01 1.21343456e+00]\n",
            " [4.45518785e-01 1.07494129e+00 2.25709339e+00]\n",
            " [7.12988980e+00 5.59716982e+00 1.25559802e-01]\n",
            " [7.19742797e-01 9.67276330e+00 5.68100462e+00]\n",
            " [2.03293235e+00 2.52325745e+00 7.43825854e+00]\n",
            " [1.95429481e+00 5.81358927e+00 9.70019989e+00]\n",
            " [8.46828801e+00 2.39847759e+00 4.93769714e+00]\n",
            " [6.19955718e+00 8.28980900e+00 1.56791395e+00]\n",
            " [1.85762022e-01 7.00221437e-01 4.86345111e+00]\n",
            " [6.06329462e+00 5.68851437e+00 3.17362409e+00]\n",
            " [9.88616154e+00 5.79745219e+00 3.80141173e+00]\n",
            " [5.50948219e+00 7.45334431e+00 6.69232893e+00]\n",
            " [2.64919558e+00 6.63348344e-01 3.70084198e+00]\n",
            " [6.29717507e+00 2.10174010e+00 7.52755554e+00]\n",
            " [6.65364814e-01 2.60315099e+00 8.04754564e+00]\n",
            " [1.93434283e+00 6.39460881e+00 5.24670309e+00]\n",
            " [9.24807970e+00 2.63296770e+00 6.59610907e-01]\n",
            " [7.35065963e+00 7.72178030e+00 9.07815853e+00]\n",
            " [9.31972069e+00 1.39515730e-01 2.34362086e+00]\n",
            " [6.16778357e+00 9.49016321e+00 9.50176119e+00]\n",
            " [5.56653188e+00 9.15606350e+00 6.41566209e+00]\n",
            " [3.90007714e+00 4.85990667e+00 6.04310483e+00]\n",
            " [5.49547922e+00 9.26181427e+00 9.18733436e+00]\n",
            " [3.94875613e+00 9.63262528e+00 1.73955667e+00]\n",
            " [1.26329519e+00 1.35079158e+00 5.05662166e+00]\n",
            " [2.15248053e-01 9.47970211e+00 8.27115471e+00]\n",
            " [1.50189807e-01 1.76196256e+00 3.32063574e+00]\n",
            " [1.30996845e+00 8.09490692e+00 3.44736653e+00]\n",
            " [9.40107482e+00 5.82014180e+00 8.78831984e+00]\n",
            " [8.44734445e+00 9.05392319e+00 4.59880266e+00]\n",
            " [5.46346816e+00 7.98603591e+00 2.85718852e+00]\n",
            " [4.90253523e+00 5.99110308e+00 1.55332756e-01]\n",
            " [5.93481408e+00 4.33676349e+00 8.07360529e+00]\n",
            " [3.15244803e+00 8.92888709e+00 5.77857215e+00]\n",
            " [1.84010202e+00 7.87929234e+00 6.12031177e+00]\n",
            " [5.39092721e-01 4.20193680e+00 6.79068837e+00]\n",
            " [9.18601778e+00 4.02024891e-03 9.76759149e+00]\n",
            " [3.76580315e+00 9.73783538e+00 6.04716101e+00]\n",
            " [8.28845808e+00 5.74711505e+00 6.28076198e+00]\n",
            " [2.85576282e+00 5.86833341e+00 7.50021764e+00]\n",
            " [8.58313836e+00 7.55082188e+00 6.98057248e+00]\n",
            " [8.64479430e+00 3.22680997e+00 6.70788791e+00]\n",
            " [4.50873936e+00 3.82102752e+00 4.10811350e+00]\n",
            " [4.01479583e+00 3.17383946e+00 6.21919368e+00]\n",
            " [4.30247271e+00 9.73802078e+00 6.77800891e+00]\n",
            " [1.98569888e+00 4.26701009e+00 3.43346240e+00]\n",
            " [7.97638804e+00 8.79998289e+00 9.03841956e+00]\n",
            " [6.62719812e+00 2.70208262e+00 2.52366702e+00]\n",
            " [8.54897943e+00 5.27714646e+00 8.02161084e+00]\n",
            " [5.72488517e+00 7.33142525e+00 5.19011627e+00]\n",
            " [7.70883911e+00 5.68857991e+00 4.65709879e+00]\n",
            " [3.42688908e+00 6.82093484e-01 3.77924179e+00]\n",
            " [7.96260777e-01 9.82817114e+00 1.81612851e+00]]\n"
          ]
        }
      ]
    },
    {
      "cell_type": "code",
      "source": [
        "type(X)"
      ],
      "metadata": {
        "colab": {
          "base_uri": "https://localhost:8080/"
        },
        "id": "AtcPaU4L-ddR",
        "outputId": "20e5260d-be66-4a6b-fb7d-b0ecbee3e688"
      },
      "execution_count": 22,
      "outputs": [
        {
          "output_type": "execute_result",
          "data": {
            "text/plain": [
              "numpy.ndarray"
            ]
          },
          "metadata": {},
          "execution_count": 22
        }
      ]
    },
    {
      "cell_type": "markdown",
      "source": [
        "checking multi-collinearity"
      ],
      "metadata": {
        "id": "EQeV9SRF_oQ8"
      }
    },
    {
      "cell_type": "code",
      "source": [
        "import numpy as np\n",
        "import pandas as pd\n",
        "#np.corrcoef(X)\n",
        "X_df = pd.DataFrame(X, columns = ['Column_A','Column_B','Column_C'])\n",
        "X_df.corr()\n"
      ],
      "metadata": {
        "colab": {
          "base_uri": "https://localhost:8080/",
          "height": 143
        },
        "id": "gGWzJc2C-qIO",
        "outputId": "27f8d696-db60-4117-b77c-c28ff4139a7a"
      },
      "execution_count": 28,
      "outputs": [
        {
          "output_type": "execute_result",
          "data": {
            "text/plain": [
              "          Column_A  Column_B  Column_C\n",
              "Column_A  1.000000  0.044438  0.015647\n",
              "Column_B  0.044438  1.000000 -0.048809\n",
              "Column_C  0.015647 -0.048809  1.000000"
            ],
            "text/html": [
              "\n",
              "  <div id=\"df-89bf9364-2ab9-473f-aabf-d38d8c7d69b7\">\n",
              "    <div class=\"colab-df-container\">\n",
              "      <div>\n",
              "<style scoped>\n",
              "    .dataframe tbody tr th:only-of-type {\n",
              "        vertical-align: middle;\n",
              "    }\n",
              "\n",
              "    .dataframe tbody tr th {\n",
              "        vertical-align: top;\n",
              "    }\n",
              "\n",
              "    .dataframe thead th {\n",
              "        text-align: right;\n",
              "    }\n",
              "</style>\n",
              "<table border=\"1\" class=\"dataframe\">\n",
              "  <thead>\n",
              "    <tr style=\"text-align: right;\">\n",
              "      <th></th>\n",
              "      <th>Column_A</th>\n",
              "      <th>Column_B</th>\n",
              "      <th>Column_C</th>\n",
              "    </tr>\n",
              "  </thead>\n",
              "  <tbody>\n",
              "    <tr>\n",
              "      <th>Column_A</th>\n",
              "      <td>1.000000</td>\n",
              "      <td>0.044438</td>\n",
              "      <td>0.015647</td>\n",
              "    </tr>\n",
              "    <tr>\n",
              "      <th>Column_B</th>\n",
              "      <td>0.044438</td>\n",
              "      <td>1.000000</td>\n",
              "      <td>-0.048809</td>\n",
              "    </tr>\n",
              "    <tr>\n",
              "      <th>Column_C</th>\n",
              "      <td>0.015647</td>\n",
              "      <td>-0.048809</td>\n",
              "      <td>1.000000</td>\n",
              "    </tr>\n",
              "  </tbody>\n",
              "</table>\n",
              "</div>\n",
              "      <button class=\"colab-df-convert\" onclick=\"convertToInteractive('df-89bf9364-2ab9-473f-aabf-d38d8c7d69b7')\"\n",
              "              title=\"Convert this dataframe to an interactive table.\"\n",
              "              style=\"display:none;\">\n",
              "        \n",
              "  <svg xmlns=\"http://www.w3.org/2000/svg\" height=\"24px\"viewBox=\"0 0 24 24\"\n",
              "       width=\"24px\">\n",
              "    <path d=\"M0 0h24v24H0V0z\" fill=\"none\"/>\n",
              "    <path d=\"M18.56 5.44l.94 2.06.94-2.06 2.06-.94-2.06-.94-.94-2.06-.94 2.06-2.06.94zm-11 1L8.5 8.5l.94-2.06 2.06-.94-2.06-.94L8.5 2.5l-.94 2.06-2.06.94zm10 10l.94 2.06.94-2.06 2.06-.94-2.06-.94-.94-2.06-.94 2.06-2.06.94z\"/><path d=\"M17.41 7.96l-1.37-1.37c-.4-.4-.92-.59-1.43-.59-.52 0-1.04.2-1.43.59L10.3 9.45l-7.72 7.72c-.78.78-.78 2.05 0 2.83L4 21.41c.39.39.9.59 1.41.59.51 0 1.02-.2 1.41-.59l7.78-7.78 2.81-2.81c.8-.78.8-2.07 0-2.86zM5.41 20L4 18.59l7.72-7.72 1.47 1.35L5.41 20z\"/>\n",
              "  </svg>\n",
              "      </button>\n",
              "      \n",
              "  <style>\n",
              "    .colab-df-container {\n",
              "      display:flex;\n",
              "      flex-wrap:wrap;\n",
              "      gap: 12px;\n",
              "    }\n",
              "\n",
              "    .colab-df-convert {\n",
              "      background-color: #E8F0FE;\n",
              "      border: none;\n",
              "      border-radius: 50%;\n",
              "      cursor: pointer;\n",
              "      display: none;\n",
              "      fill: #1967D2;\n",
              "      height: 32px;\n",
              "      padding: 0 0 0 0;\n",
              "      width: 32px;\n",
              "    }\n",
              "\n",
              "    .colab-df-convert:hover {\n",
              "      background-color: #E2EBFA;\n",
              "      box-shadow: 0px 1px 2px rgba(60, 64, 67, 0.3), 0px 1px 3px 1px rgba(60, 64, 67, 0.15);\n",
              "      fill: #174EA6;\n",
              "    }\n",
              "\n",
              "    [theme=dark] .colab-df-convert {\n",
              "      background-color: #3B4455;\n",
              "      fill: #D2E3FC;\n",
              "    }\n",
              "\n",
              "    [theme=dark] .colab-df-convert:hover {\n",
              "      background-color: #434B5C;\n",
              "      box-shadow: 0px 1px 3px 1px rgba(0, 0, 0, 0.15);\n",
              "      filter: drop-shadow(0px 1px 2px rgba(0, 0, 0, 0.3));\n",
              "      fill: #FFFFFF;\n",
              "    }\n",
              "  </style>\n",
              "\n",
              "      <script>\n",
              "        const buttonEl =\n",
              "          document.querySelector('#df-89bf9364-2ab9-473f-aabf-d38d8c7d69b7 button.colab-df-convert');\n",
              "        buttonEl.style.display =\n",
              "          google.colab.kernel.accessAllowed ? 'block' : 'none';\n",
              "\n",
              "        async function convertToInteractive(key) {\n",
              "          const element = document.querySelector('#df-89bf9364-2ab9-473f-aabf-d38d8c7d69b7');\n",
              "          const dataTable =\n",
              "            await google.colab.kernel.invokeFunction('convertToInteractive',\n",
              "                                                     [key], {});\n",
              "          if (!dataTable) return;\n",
              "\n",
              "          const docLinkHtml = 'Like what you see? Visit the ' +\n",
              "            '<a target=\"_blank\" href=https://colab.research.google.com/notebooks/data_table.ipynb>data table notebook</a>'\n",
              "            + ' to learn more about interactive tables.';\n",
              "          element.innerHTML = '';\n",
              "          dataTable['output_type'] = 'display_data';\n",
              "          await google.colab.output.renderOutput(dataTable, element);\n",
              "          const docLink = document.createElement('div');\n",
              "          docLink.innerHTML = docLinkHtml;\n",
              "          element.appendChild(docLink);\n",
              "        }\n",
              "      </script>\n",
              "    </div>\n",
              "  </div>\n",
              "  "
            ]
          },
          "metadata": {},
          "execution_count": 28
        }
      ]
    },
    {
      "cell_type": "code",
      "source": [
        "from sklearn.pipeline import make_pipeline\n",
        "from sklearn.preprocessing import PolynomialFeatures\n",
        "poly_model = make_pipeline(PolynomialFeatures(7),\n",
        "                           LinearRegression())\n",
        "rng = np.random.RandomState(1)\n",
        "x = 10 * rng.rand(50)\n",
        "y = np.sin(x) + 0.1 * rng.randn(50)\n",
        "\n",
        "poly_model.fit(x[:, np.newaxis], y)\n",
        "yfit = poly_model.predict(xfit[:, np.newaxis])\n",
        "\n",
        "plt.scatter(x, y)\n",
        "plt.plot(xfit, yfit);"
      ],
      "metadata": {
        "colab": {
          "base_uri": "https://localhost:8080/",
          "height": 268
        },
        "id": "TCGnstDjAeH8",
        "outputId": "2609232d-fe1d-47d8-8936-56b68d8d27ec"
      },
      "execution_count": 30,
      "outputs": [
        {
          "output_type": "display_data",
          "data": {
            "text/plain": [
              "<Figure size 432x288 with 1 Axes>"
            ],
            "image/png": "[encoded data removed]"
          },
          "metadata": {}
        }
      ]
    },
    {
      "cell_type": "code",
      "source": [
        "poly_model"
      ],
      "metadata": {
        "colab": {
          "base_uri": "https://localhost:8080/",
          "height": 172
        },
        "id": "fK0HUu49A2oM",
        "outputId": "9eef241b-b28b-4824-9586-86e924a28883"
      },
      "execution_count": 32,
      "outputs": [
        {
          "output_type": "execute_result",
          "data": {
            "text/plain": [
              "Pipeline(steps=[('polynomialfeatures', PolynomialFeatures(degree=7)),\n",
              "                ('linearregression', LinearRegression())])"
            ],
            "text/html": [
              "<style>#sk-container-id-1 {color: black;background-color: white;}#sk-container-id-1 pre{padding: 0;}#sk-container-id-1 div.sk-toggleable {background-color: white;}#sk-container-id-1 label.sk-toggleable__label {cursor: pointer;display: block;width: 100%;margin-bottom: 0;padding: 0.3em;box-sizing: border-box;text-align: center;}#sk-container-id-1 label.sk-toggleable__label-arrow:before {content: \"▸\";float: left;margin-right: 0.25em;color: #696969;}#sk-container-id-1 label.sk-toggleable__label-arrow:hover:before {color: black;}#sk-container-id-1 div.sk-estimator:hover label.sk-toggleable__label-arrow:before {color: black;}#sk-container-id-1 div.sk-toggleable__content {max-height: 0;max-width: 0;overflow: hidden;text-align: left;background-color: #f0f8ff;}#sk-container-id-1 div.sk-toggleable__content pre {margin: 0.2em;color: black;border-radius: 0.25em;background-color: #f0f8ff;}#sk-container-id-1 input.sk-toggleable__control:checked~div.sk-toggleable__content {max-height: 200px;max-width: 100%;overflow: auto;}#sk-container-id-1 input.sk-toggleable__control:checked~label.sk-toggleable__label-arrow:before {content: \"▾\";}#sk-container-id-1 div.sk-estimator input.sk-toggleable__control:checked~label.sk-toggleable__label {background-color: #d4ebff;}#sk-container-id-1 div.sk-label input.sk-toggleable__control:checked~label.sk-toggleable__label {background-color: #d4ebff;}#sk-container-id-1 input.sk-hidden--visually {border: 0;clip: rect(1px 1px 1px 1px);clip: rect(1px, 1px, 1px, 1px);height: 1px;margin: -1px;overflow: hidden;padding: 0;position: absolute;width: 1px;}#sk-container-id-1 div.sk-estimator {font-family: monospace;background-color: #f0f8ff;border: 1px dotted black;border-radius: 0.25em;box-sizing: border-box;margin-bottom: 0.5em;}#sk-container-id-1 div.sk-estimator:hover {background-color: #d4ebff;}#sk-container-id-1 div.sk-parallel-item::after {content: \"\";width: 100%;border-bottom: 1px solid gray;flex-grow: 1;}#sk-container-id-1 div.sk-label:hover label.sk-toggleable__label {background-color: #d4ebff;}#sk-container-id-1 div.sk-serial::before {content: \"\";position: absolute;border-left: 1px solid gray;box-sizing: border-box;top: 0;bottom: 0;left: 50%;z-index: 0;}#sk-container-id-1 div.sk-serial {display: flex;flex-direction: column;align-items: center;background-color: white;padding-right: 0.2em;padding-left: 0.2em;position: relative;}#sk-container-id-1 div.sk-item {position: relative;z-index: 1;}#sk-container-id-1 div.sk-parallel {display: flex;align-items: stretch;justify-content: center;background-color: white;position: relative;}#sk-container-id-1 div.sk-item::before, #sk-container-id-1 div.sk-parallel-item::before {content: \"\";position: absolute;border-left: 1px solid gray;box-sizing: border-box;top: 0;bottom: 0;left: 50%;z-index: -1;}#sk-container-id-1 div.sk-parallel-item {display: flex;flex-direction: column;z-index: 1;position: relative;background-color: white;}#sk-container-id-1 div.sk-parallel-item:first-child::after {align-self: flex-end;width: 50%;}#sk-container-id-1 div.sk-parallel-item:last-child::after {align-self: flex-start;width: 50%;}#sk-container-id-1 div.sk-parallel-item:only-child::after {width: 0;}#sk-container-id-1 div.sk-dashed-wrapped {border: 1px dashed gray;margin: 0 0.4em 0.5em 0.4em;box-sizing: border-box;padding-bottom: 0.4em;background-color: white;}#sk-container-id-1 div.sk-label label {font-family: monospace;font-weight: bold;display: inline-block;line-height: 1.2em;}#sk-container-id-1 div.sk-label-container {text-align: center;}#sk-container-id-1 div.sk-container {/* jupyter's `normalize.less` sets `[hidden] { display: none; }` but bootstrap.min.css set `[hidden] { display: none !important; }` so we also need the `!important` here to be able to override the default hidden behavior on the sphinx rendered scikit-learn.org. See: https://github.com/scikit-learn/scikit-learn/issues/21755 */display: inline-block !important;position: relative;}#sk-container-id-1 div.sk-text-repr-fallback {display: none;}</style><div id=\"sk-container-id-1\" class=\"sk-top-container\"><div class=\"sk-text-repr-fallback\"><pre>Pipeline(steps=[(&#x27;polynomialfeatures&#x27;, PolynomialFeatures(degree=7)),\n",
              "                (&#x27;linearregression&#x27;, LinearRegression())])</pre><b>In a Jupyter environment, please rerun this cell to show the HTML representation or trust the notebook. <br />On GitHub, the HTML representation is unable to render, please try loading this page with nbviewer.org.</b></div><div class=\"sk-container\" hidden><div class=\"sk-item sk-dashed-wrapped\"><div class=\"sk-label-container\"><div class=\"sk-label sk-toggleable\"><input class=\"sk-toggleable__control sk-hidden--visually\" id=\"sk-estimator-id-1\" type=\"checkbox\" ><label for=\"sk-estimator-id-1\" class=\"sk-toggleable__label sk-toggleable__label-arrow\">Pipeline</label><div class=\"sk-toggleable__content\"><pre>Pipeline(steps=[(&#x27;polynomialfeatures&#x27;, PolynomialFeatures(degree=7)),\n",
              "                (&#x27;linearregression&#x27;, LinearRegression())])</pre></div></div></div><div class=\"sk-serial\"><div class=\"sk-item\"><div class=\"sk-estimator sk-toggleable\"><input class=\"sk-toggleable__control sk-hidden--visually\" id=\"sk-estimator-id-2\" type=\"checkbox\" ><label for=\"sk-estimator-id-2\" class=\"sk-toggleable__label sk-toggleable__label-arrow\">PolynomialFeatures</label><div class=\"sk-toggleable__content\"><pre>PolynomialFeatures(degree=7)</pre></div></div></div><div class=\"sk-item\"><div class=\"sk-estimator sk-toggleable\"><input class=\"sk-toggleable__control sk-hidden--visually\" id=\"sk-estimator-id-3\" type=\"checkbox\" ><label for=\"sk-estimator-id-3\" class=\"sk-toggleable__label sk-toggleable__label-arrow\">LinearRegression</label><div class=\"sk-toggleable__content\"><pre>LinearRegression()</pre></div></div></div></div></div></div></div>"
            ]
          },
          "metadata": {},
          "execution_count": 32
        }
      ]
    },
    {
      "cell_type": "code",
      "source": [
        "type(poly_model)"
      ],
      "metadata": {
        "colab": {
          "base_uri": "https://localhost:8080/"
        },
        "id": "GpCEn9qiBKpo",
        "outputId": "d294bcd9-2b2d-4d75-917f-1f092c34283e"
      },
      "execution_count": 33,
      "outputs": [
        {
          "output_type": "execute_result",
          "data": {
            "text/plain": [
              "sklearn.pipeline.Pipeline"
            ]
          },
          "metadata": {},
          "execution_count": 33
        }
      ]
    }
  ]
}